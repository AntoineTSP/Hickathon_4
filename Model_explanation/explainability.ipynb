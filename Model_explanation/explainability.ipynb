{
 "cells": [
  {
   "cell_type": "markdown",
   "id": "08a18ef7-f6f2-4b67-87b1-65cb3a452043",
   "metadata": {},
   "source": [
    "## Model Explanation"
   ]
  },
  {
   "cell_type": "code",
   "execution_count": null,
   "id": "d87f5804-8ff7-4042-b460-e1fef18ed7a8",
   "metadata": {
    "tags": []
   },
   "outputs": [],
   "source": [
    "# !pip install --upgrade pip --quiet\n",
    "# !pip install -U scikit-learn==1.3.0 shap joblib --quiet"
   ]
  },
  {
   "cell_type": "code",
   "execution_count": null,
   "id": "0a97a1a6-4729-4a99-9d7d-a34ee66c7572",
   "metadata": {
    "tags": []
   },
   "outputs": [],
   "source": [
    "import warnings\n",
    "import pandas as pd\n",
    "import matplotlib.pyplot as plt\n",
    "import shap\n",
    "import joblib\n",
    "warnings.filterwarnings(\"ignore\", message=\".*The 'nopython' keyword.*\")\n",
    "import utilities"
   ]
  },
  {
   "cell_type": "code",
   "execution_count": null,
   "id": "27404658-a028-4db4-8a4d-b8c1db55576a",
   "metadata": {
    "tags": []
   },
   "outputs": [],
   "source": [
    "print(joblib.__version__)\n",
    "print(shap.__version__)"
   ]
  },
  {
   "cell_type": "code",
   "execution_count": null,
   "id": "6e973164-562f-4eb4-ac72-d185bfdff3ea",
   "metadata": {
    "tags": []
   },
   "outputs": [],
   "source": [
    "# Load model.\n",
    "X_test = pd.read_csv(\"../datasets/X_test_working_for_real.csv\", sep=\",\")\n",
    "rf_reg = joblib.load(\"../predict/RFR_0.51.joblib\")"
   ]
  },
  {
   "cell_type": "code",
   "execution_count": null,
   "id": "d92db10d-b352-42f8-86f3-aa81bec2b0a1",
   "metadata": {
    "tags": []
   },
   "outputs": [],
   "source": [
    "# gscpi = utilities.get_gscpi(\"../datasets/extra-dataset/GSCPI_data.csv\")\n",
    "# utilities.wrangle_test_data(X_test, gscpi)"
   ]
  },
  {
   "cell_type": "code",
   "execution_count": null,
   "id": "095c6727-1904-406b-9f9d-233cd0968650",
   "metadata": {
    "tags": []
   },
   "outputs": [],
   "source": [
    "rf_reg.predict(X_test)"
   ]
  },
  {
   "cell_type": "code",
   "execution_count": null,
   "id": "0d7b7af1-a5c0-4604-be96-08952198580d",
   "metadata": {
    "tags": []
   },
   "outputs": [],
   "source": [
    "# rather than use the whole training set to estimate expected values, we summarize with\n",
    "# a set of weighted kmeans, each weighted by the number of points they represent.\n",
    "X_test_summary = shap.kmeans(X_test, 200)"
   ]
  },
  {
   "cell_type": "code",
   "execution_count": null,
   "id": "b29db14c-48da-4dfa-bf73-225ae2c38c7c",
   "metadata": {},
   "outputs": [],
   "source": [
    "exp = shap.TreeExplainer(rf_reg,\n",
    "                         # X_test_summary\n",
    "                        )"
   ]
  },
  {
   "cell_type": "code",
   "execution_count": null,
   "id": "34b7cd0e-ef83-4de3-9bfa-de26ddfb5efd",
   "metadata": {
    "tags": []
   },
   "outputs": [],
   "source": [
    "shap_values = exp.shap_values(X_test_summary.data)"
   ]
  },
  {
   "cell_type": "code",
   "execution_count": null,
   "id": "2fb25c35-a250-4452-b0a9-d38c6ed969c0",
   "metadata": {
    "tags": []
   },
   "outputs": [],
   "source": [
    "feature_names=['Site', 'Reference proxy', 'Customer Persona proxy', 'Strategic Product Family proxy', 'Date', 'Month 1', 'Month 2', 'Month 3', 'gscpi']\n",
    "summary_plot = shap.summary_plot(shap_values, X_test_summary.data, feature_names=feature_names, show=False)\n",
    "\n",
    "# Save summary plot to PNG\n",
    "plt.savefig('./summary_plot.png', bbox_inches='tight')"
   ]
  },
  {
   "cell_type": "code",
   "execution_count": null,
   "id": "1d2ebc12-a23c-4a87-81fd-d298066d7f34",
   "metadata": {
    "tags": []
   },
   "outputs": [],
   "source": [
    "for name in feature_names:\n",
    "    shap.dependence_plot(name , shap_values, X_test_summary.data, feature_names, show=False)\n",
    "    plt.savefig(f\"./dependence_plot_{name}.png\", bbox_inches='tight')"
   ]
  },
  {
   "cell_type": "code",
   "execution_count": null,
   "id": "418de9d7-a3d3-4d98-8ccd-c643a8049767",
   "metadata": {},
   "outputs": [],
   "source": [
    "shap.dependence_plot(\"Customer Persona proxy\" , shap_values, X_test_summary.data, feature_names)"
   ]
  }
 ],
 "metadata": {
  "kernelspec": {
   "display_name": "Python 3 (ipykernel)",
   "language": "python",
   "name": "python3"
  },
  "language_info": {
   "codemirror_mode": {
    "name": "ipython",
    "version": 3
   },
   "file_extension": ".py",
   "mimetype": "text/x-python",
   "name": "python",
   "nbconvert_exporter": "python",
   "pygments_lexer": "ipython3",
   "version": "3.10.12"
  }
 },
 "nbformat": 4,
 "nbformat_minor": 5
}
