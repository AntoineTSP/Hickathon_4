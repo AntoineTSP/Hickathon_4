{
 "cells": [
  {
   "cell_type": "code",
   "execution_count": null,
   "id": "6a35ca11-ff8a-495f-990d-75b35fd82cd1",
   "metadata": {
    "tags": []
   },
   "outputs": [],
   "source": [
    "!pip install scikit-learn==1.3.0"
   ]
  },
  {
   "cell_type": "code",
   "execution_count": null,
   "id": "4f29f204-ca83-4173-bea6-0d37733c450a",
   "metadata": {},
   "outputs": [],
   "source": [
    "import pandas as pd\n",
    "import numpy as np\n",
    "from tqdm import tqdm\n",
    "import matplotlib.pyplot as plt\n",
    "\n",
    "import warnings\n",
    "warnings.filterwarnings(\"ignore\")"
   ]
  },
  {
   "cell_type": "code",
   "execution_count": null,
   "id": "8d5f4668-16d0-4fec-89d7-48d223abc7b2",
   "metadata": {
    "tags": []
   },
   "outputs": [],
   "source": [
    "import sklearn\n",
    "sklearn.__version__"
   ]
  },
  {
   "cell_type": "markdown",
   "id": "3d06a6cf-5124-47da-83ba-52ca47a8849c",
   "metadata": {},
   "source": [
    "### Load datasets"
   ]
  },
  {
   "cell_type": "code",
   "execution_count": null,
   "id": "c2f281a3-216c-4b0f-bb6d-fd792c2dba28",
   "metadata": {
    "tags": []
   },
   "outputs": [],
   "source": [
    "def to_int(x):\n",
    "    if pd.isna(x):\n",
    "        return x\n",
    "    if isinstance(x, int):\n",
    "        return x\n",
    "    return int(x.replace(\" \", \"\"))"
   ]
  },
  {
   "cell_type": "code",
   "execution_count": null,
   "id": "e00fc009-ac3a-4b12-beed-2c09c0cba601",
   "metadata": {
    "tags": []
   },
   "outputs": [],
   "source": [
    "df = pd.read_csv(\"datasets/train.csv\")\n",
    "df['Month 4'] = df['Month 4'].apply(lambda x: to_int(x))\n",
    "df"
   ]
  },
  {
   "cell_type": "markdown",
   "id": "5c18afc5-566e-417f-a8b4-2d962e04578e",
   "metadata": {
    "tags": []
   },
   "source": [
    "## Extra Datasets"
   ]
  },
  {
   "cell_type": "code",
   "execution_count": null,
   "id": "76eb173a-cff5-4617-92a4-da14605dab38",
   "metadata": {
    "tags": []
   },
   "outputs": [],
   "source": [
    "gspci = pd.read_csv(\"datasets/extra-dataset/GSCPI_data.csv\", sep=\",\")\n",
    "gspci['Year'] = gspci['Year-Month'].apply(lambda x: x.split('-')[0]).astype(int)\n",
    "gspci['Month'] = gspci['Year-Month'].apply(lambda x: x.split('-')[1]).astype(int)\n",
    "gspci.drop(columns=['Year-Month'], inplace=True)\n",
    "gspci.head(3)"
   ]
  },
  {
   "cell_type": "code",
   "execution_count": null,
   "id": "9b1059a0-745b-4e7a-bf24-2817a5e6b3fe",
   "metadata": {
    "tags": []
   },
   "outputs": [],
   "source": [
    "lpi = pd.read_csv(\"datasets/extra-dataset/LPIextend.csv\")\n",
    "lpi.drop(columns=[\"Unnamed: 0\", \"ID\"], inplace=True)\n",
    "lpi.loc[lpi.Country == 'Taiwan, China', 'Country'] = 'Taiwan'\n",
    "lpi.head(3)"
   ]
  },
  {
   "cell_type": "code",
   "execution_count": null,
   "id": "73c06469-0867-495e-a97a-93c920fe5f7b",
   "metadata": {
    "tags": []
   },
   "outputs": [],
   "source": [
    "wb_eco = pd.read_csv(\"datasets/extra-dataset/worldbank_economic_data.csv\")\n",
    "wb_eco.head(3)"
   ]
  },
  {
   "cell_type": "code",
   "execution_count": null,
   "id": "a977b798-a532-4f7a-b19b-262b90468200",
   "metadata": {
    "tags": []
   },
   "outputs": [],
   "source": [
    "wb_inf = pd.read_csv(\"datasets/extra-dataset/worldbank_inflation_data.csv\")\n",
    "wb_inf['Year'] = wb_inf['Year-Month'].apply(lambda x: x.split('-')[0])\n",
    "wb_inf['Month'] = wb_inf['Year-Month'].apply(lambda x: x.split('-')[1])\n",
    "wb_inf.drop(columns=['Year-Month'], inplace=True)\n",
    "wb_inf.head(3)"
   ]
  },
  {
   "cell_type": "markdown",
   "id": "33c8e7d2-a46f-4617-b5a1-8c82c9549de9",
   "metadata": {},
   "source": [
    "### Add country codes to extra datasets"
   ]
  },
  {
   "cell_type": "code",
   "execution_count": null,
   "id": "aa1a2cf8-f99e-4c9d-a6cc-43f0576a2761",
   "metadata": {
    "tags": []
   },
   "outputs": [],
   "source": [
    "country_codes = pd.read_csv('datasets/country_codes.txt', sep=',')\n",
    "country_codes.loc[country_codes.Name == 'Namibia', 'Code'] = 'NA'\n",
    "country_codes.loc[country_codes.Code == 'ID', 'Code'] = 'Id'\n",
    "country_codes.head(3)"
   ]
  },
  {
   "cell_type": "code",
   "execution_count": null,
   "id": "36553555-22a4-4bc4-b83e-6e11353fc92d",
   "metadata": {
    "tags": []
   },
   "outputs": [],
   "source": [
    "def get_country_code(country):\n",
    "    df_country = country_codes.loc[country_codes.Name.str.contains(country)]\n",
    "    if len(df_country) == 0:\n",
    "        return \"NoCode\"\n",
    "    return (df_country.Code.iloc[0])\n",
    "\n",
    "def insert_code(df, index):\n",
    "    df.insert(index, \"Country_code\", df.Country.apply(lambda country: get_country_code(country)))"
   ]
  },
  {
   "cell_type": "code",
   "execution_count": null,
   "id": "c1ad9e8f-63c1-48d6-9de0-abea52c3dbac",
   "metadata": {
    "tags": []
   },
   "outputs": [],
   "source": [
    "insert_code(lpi, 1)"
   ]
  },
  {
   "cell_type": "code",
   "execution_count": null,
   "id": "69155fdf-3cbf-4e0f-9b8b-463c26b3660c",
   "metadata": {
    "tags": []
   },
   "outputs": [],
   "source": [
    "insert_code(wb_eco, 1)"
   ]
  },
  {
   "cell_type": "code",
   "execution_count": null,
   "id": "f423478e-67d2-4123-8131-0fa8fe06a2ac",
   "metadata": {
    "tags": []
   },
   "outputs": [],
   "source": [
    "insert_code(wb_inf, 1)"
   ]
  },
  {
   "cell_type": "markdown",
   "id": "6273460e-0aad-4dc8-bb5c-33b80615d3f4",
   "metadata": {},
   "source": [
    "## Add from extra-datasets"
   ]
  },
  {
   "cell_type": "code",
   "execution_count": null,
   "id": "a3d64ccf-4a6e-4d13-a2af-1ec3523e437f",
   "metadata": {
    "tags": []
   },
   "outputs": [],
   "source": [
    "def get_mean_gspci(date):\n",
    "    months, year = date.split(\" \")\n",
    "    year = int(year)\n",
    "    gscpi_months = []\n",
    "    if months == 'may-aug':\n",
    "        gscpi_months = [5, 6, 7, 8]\n",
    "    elif months == 'sep-dec':\n",
    "        gscpi_months = [9, 10, 11, 12]\n",
    "    elif months == 'jan-apr':\n",
    "        gscpi_months = [1, 2, 3, 4]\n",
    "    elif months == 'may-jul':\n",
    "        gscpi_months = [5, 6, 7]\n",
    "        \n",
    "    return gspci.loc[(gspci.Year == year) & (gspci.Month.isin(gscpi_months))].GSCPI.mean()\n",
    "\n",
    "def add_gscpi_to_df(df):\n",
    "    df['gscpi'] = [0]*len(df)\n",
    "    for date in df.Date.unique():\n",
    "        df.loc[df.Date == date, 'gscpi'] = get_mean_gspci(date)"
   ]
  },
  {
   "cell_type": "code",
   "execution_count": null,
   "id": "724543bd-a336-48b1-bbcd-657d21431058",
   "metadata": {
    "tags": []
   },
   "outputs": [],
   "source": [
    "add_gscpi_to_df(df)"
   ]
  },
  {
   "cell_type": "markdown",
   "id": "e8f13669-eea4-45ed-979c-d39f089aa7e4",
   "metadata": {},
   "source": [
    "## Add LPI"
   ]
  },
  {
   "cell_type": "code",
   "execution_count": null,
   "id": "fb549566-9a2b-4b2c-b5ce-148318e256d5",
   "metadata": {
    "tags": []
   },
   "outputs": [],
   "source": [
    "def add_lpi_to_df(df):\n",
    "    lpi_col_to_add = ['Customs Score', 'Logistics Competence and Quality Score', 'International Shipments Score']\n",
    "    for col in lpi_col_to_add:\n",
    "        df[col] = ['']*len(df)\n",
    "    for country_code in df.Country.unique():\n",
    "        lpi_country = lpi.loc[lpi.Country_code == country_code]\n",
    "        try:\n",
    "            for col in lpi_col_to_add:\n",
    "                df.loc[df.Country == country_code, col] = lpi_country[col].iloc[0]\n",
    "        except:\n",
    "            print(country_code)"
   ]
  },
  {
   "cell_type": "code",
   "execution_count": null,
   "id": "097f6d72-73be-4687-8041-5f5ec827e3ca",
   "metadata": {
    "tags": []
   },
   "outputs": [],
   "source": [
    "add_lpi_to_df(df)"
   ]
  },
  {
   "cell_type": "markdown",
   "id": "2127a9ad-ad18-474e-b16c-96a60ad2a4c4",
   "metadata": {},
   "source": [
    "## Split Data"
   ]
  },
  {
   "cell_type": "code",
   "execution_count": null,
   "id": "083ef41a-32c2-43da-b8c2-3caa789e4318",
   "metadata": {
    "tags": []
   },
   "outputs": [],
   "source": [
    "from sklearn.model_selection import train_test_split"
   ]
  },
  {
   "cell_type": "code",
   "execution_count": null,
   "id": "def20dc5-935f-4a42-bf74-2675043f4b66",
   "metadata": {
    "tags": []
   },
   "outputs": [],
   "source": [
    "features_to_keep = ['Site', 'Reference proxy', 'Customer Persona proxy', 'Strategic Product Family proxy', 'Date', 'Month 1', 'Month 2', 'Month 3', 'gscpi']\n",
    "#features_to_keep = list(df.columns)[2:]"
   ]
  },
  {
   "cell_type": "code",
   "execution_count": null,
   "id": "5f332566-7744-4409-a51f-d8469209edd4",
   "metadata": {
    "tags": []
   },
   "outputs": [],
   "source": [
    "X = df[features_to_keep]\n",
    "X.dropna(inplace=True)\n",
    "X.shape"
   ]
  },
  {
   "cell_type": "code",
   "execution_count": null,
   "id": "360a600d-cf79-4b45-b888-8a31655a5e08",
   "metadata": {
    "tags": []
   },
   "outputs": [],
   "source": [
    "y = df['Month 4']\n",
    "X.drop(columns=['Month 4'], errors='ignore', inplace=True)"
   ]
  },
  {
   "cell_type": "code",
   "execution_count": null,
   "id": "8ca7038d-020d-4190-a9e1-49739bfe8e40",
   "metadata": {
    "tags": []
   },
   "outputs": [],
   "source": [
    "X_train, X_test, y_train, y_test = train_test_split(X, y)"
   ]
  },
  {
   "cell_type": "code",
   "execution_count": null,
   "id": "e7860969-27d1-4b31-ab83-7e29aba4a029",
   "metadata": {
    "tags": []
   },
   "outputs": [],
   "source": [
    "print(f\"X_train shape -> {X_train.shape}, X_test shape -> {X_test.shape}\")"
   ]
  },
  {
   "cell_type": "markdown",
   "id": "41d72a0a-c0c8-4dd6-9d62-7ee244126a42",
   "metadata": {},
   "source": [
    "## Target Encoding"
   ]
  },
  {
   "cell_type": "code",
   "execution_count": null,
   "id": "c1854abd-699d-4e6c-97dd-11fa853cfdaa",
   "metadata": {
    "tags": []
   },
   "outputs": [],
   "source": [
    "from sklearn.preprocessing import TargetEncoder"
   ]
  },
  {
   "cell_type": "code",
   "execution_count": null,
   "id": "210e02f2-dff6-40f4-ad80-c9c631bbfefc",
   "metadata": {
    "tags": []
   },
   "outputs": [],
   "source": [
    "enc = TargetEncoder(target_type='continuous')"
   ]
  },
  {
   "cell_type": "code",
   "execution_count": null,
   "id": "ed0e76d3-1334-49be-8e06-8c34a5e97f16",
   "metadata": {
    "tags": []
   },
   "outputs": [],
   "source": [
    "index_fst_not_encoded = list(X.columns).index('Month 1')"
   ]
  },
  {
   "cell_type": "code",
   "execution_count": null,
   "id": "3cf5f00d-37ea-4800-bd2d-2701eb1d977e",
   "metadata": {
    "tags": []
   },
   "outputs": [],
   "source": [
    "X_train_not_encoded = X_train[X_train.columns[index_fst_not_encoded:]]\n",
    "X_train = enc.fit_transform(X_train[X_train.columns[:index_fst_not_encoded]], y_train)\n",
    "X_train = np.hstack((X_train, X_train_not_encoded))"
   ]
  },
  {
   "cell_type": "code",
   "execution_count": null,
   "id": "0d977e97-c7d5-4c33-ac83-943b6d18dc65",
   "metadata": {
    "tags": []
   },
   "outputs": [],
   "source": [
    "X_test_not_encoded = X_test[X_test.columns[index_fst_not_encoded:]]\n",
    "X_test = enc.transform(X_test[X_test.columns[:index_fst_not_encoded]])\n",
    "X_test = np.hstack((X_test, X_test_not_encoded))"
   ]
  },
  {
   "cell_type": "markdown",
   "id": "7a333ea2-866e-45f5-ae7b-f34d3ac4ba5e",
   "metadata": {},
   "source": [
    "## Scores"
   ]
  },
  {
   "cell_type": "code",
   "execution_count": null,
   "id": "aa3b21f2-79d9-489c-8b84-b51a1da6fa30",
   "metadata": {
    "tags": []
   },
   "outputs": [],
   "source": [
    "from sklearn.metrics import r2_score\n",
    "from sklearn.metrics import mean_squared_error, mean_absolute_error\n",
    "from scipy.stats import pearsonr\n",
    "\n",
    "def scores(model, X, y):\n",
    "    y_pred = model.predict(X)\n",
    "    r2 = r2_score(y, y_pred)\n",
    "    mse = mean_squared_error(y, y_pred)\n",
    "    mae = mean_absolute_error(y, y_pred)\n",
    "    pearson, _ = pearsonr(y, y_pred)\n",
    "    return mse, np.sqrt(mse), mae, r2, pearson\n",
    "\n",
    "def print_scores(model):\n",
    "    train_scores = scores(model, X_train, y_train)\n",
    "    test_scores = scores(model, X_test, y_test)\n",
    "    print(f\"Train scores: MSE={train_scores[0]}, RMSE={train_scores[1]}, MAE={train_scores[2]}, R2={train_scores[3]}, Pearson={train_scores[4]}\")\n",
    "    print(f\"Test scores: MSE={test_scores[0]}, RMSE={test_scores[1]}, MAE={test_scores[2]}, R2={test_scores[3]}, Pearson={test_scores[4]}\")"
   ]
  },
  {
   "cell_type": "code",
   "execution_count": null,
   "id": "3413c31a-033f-4aee-849c-775c3824e2b9",
   "metadata": {
    "tags": []
   },
   "outputs": [],
   "source": [
    "def estim_score_hfactory(model):\n",
    "    r0 = np.sqrt(mean_squared_error(y_test, [0]*len(y_test)))\n",
    "    y_pred = model.predict(X_test)\n",
    "    mse = mean_squared_error(y_test, y_pred)\n",
    "    rmse = np.sqrt(mse)\n",
    "    return (r0 - 0.8*rmse) / r0"
   ]
  },
  {
   "cell_type": "markdown",
   "id": "ea0b94d0-7caf-42e0-b9d5-09e046f2a0b9",
   "metadata": {},
   "source": [
    "## Voting"
   ]
  },
  {
   "cell_type": "code",
   "execution_count": null,
   "id": "d65ff823-1ff0-4663-b71d-b8ed9b7f3963",
   "metadata": {
    "tags": []
   },
   "outputs": [],
   "source": [
    "from sklearn.ensemble import RandomForestRegressor\n",
    "from sklearn.ensemble import HistGradientBoostingRegressor, GradientBoostingRegressor\n",
    "from sklearn.ensemble import VotingRegressor"
   ]
  },
  {
   "cell_type": "code",
   "execution_count": null,
   "id": "99906daf-8937-4ba9-ae83-ef279667d575",
   "metadata": {
    "tags": []
   },
   "outputs": [],
   "source": [
    "gb_model = GradientBoostingRegressor(n_estimators=200, learning_rate=1e-2, validation_fraction=0.15)\n",
    "rf_model = RandomForestRegressor(n_estimators=400, verbose=10, n_jobs=-1,\n",
    "                           max_depth=10, min_samples_leaf=2, oob_score=True, min_samples_split=0.3,\n",
    "                           criterion=\"friedman_mse\")\n",
    "\n",
    "ensemble_model = VotingRegressor([('rf', rf_model), ('gb', gb_model)], n_jobs=-1, verbose=True)\n",
    "\n",
    "ensemble_model.fit(X_train, y_train)"
   ]
  },
  {
   "cell_type": "code",
   "execution_count": null,
   "id": "adc1fd24-d772-42ad-afc1-0142d35aca5b",
   "metadata": {
    "tags": []
   },
   "outputs": [],
   "source": [
    "print_scores(ensemble_model)"
   ]
  },
  {
   "cell_type": "code",
   "execution_count": null,
   "id": "08b90ea4-f0f2-4771-9dd3-eb7f8af09b0d",
   "metadata": {
    "tags": []
   },
   "outputs": [],
   "source": [
    "estim_score_hfactory(ensemble_model)"
   ]
  },
  {
   "cell_type": "code",
   "execution_count": null,
   "id": "f58fa309-757c-4abb-86c8-34db0d76b5fa",
   "metadata": {
    "tags": []
   },
   "outputs": [],
   "source": [
    "print_scores(ensemble_model)"
   ]
  },
  {
   "cell_type": "markdown",
   "id": "085ca266-95c9-4141-8564-82bbf05196b4",
   "metadata": {
    "tags": []
   },
   "source": [
    "## Random forest"
   ]
  },
  {
   "cell_type": "code",
   "execution_count": null,
   "id": "6a50a399-aac3-4606-9547-9bee4e234a3d",
   "metadata": {
    "tags": []
   },
   "outputs": [],
   "source": [
    "from sklearn.ensemble import RandomForestRegressor\n",
    "from sklearn.ensemble import HistGradientBoostingRegressor"
   ]
  },
  {
   "cell_type": "code",
   "execution_count": null,
   "id": "8256f5da-c5f2-42bb-956c-51b3b0d1417d",
   "metadata": {
    "tags": []
   },
   "outputs": [],
   "source": [
    "clf = RandomForestRegressor(n_estimators=250, verbose=2, n_jobs=-1,\n",
    "                           max_depth=5, max_features='log2', min_samples_split=0.3,\n",
    "                           criterion=\"friedman_mse\")"
   ]
  },
  {
   "cell_type": "raw",
   "id": "34d10db0-d9a7-45d3-a2a5-3afd92023cee",
   "metadata": {},
   "source": [
    "'max_depth': 5, 'min_samples_split': 0.31618663968015825, 'max_features': 'log2'"
   ]
  },
  {
   "cell_type": "code",
   "execution_count": null,
   "id": "b09262f6-7b88-4dc5-b35b-2c4f0ffc5cd5",
   "metadata": {
    "tags": []
   },
   "outputs": [],
   "source": [
    "clf.fit(X_train, y_train)"
   ]
  },
  {
   "cell_type": "code",
   "execution_count": null,
   "id": "757c83b8-1ec5-4fda-ab42-639905a12a55",
   "metadata": {
    "tags": []
   },
   "outputs": [],
   "source": [
    "print_scores(clf)"
   ]
  },
  {
   "cell_type": "code",
   "execution_count": null,
   "id": "8d45b20e-181b-49f2-b83d-33de85c1fcf0",
   "metadata": {
    "tags": []
   },
   "outputs": [],
   "source": [
    "print(f\"Estimated HFactory score={estim_score_hfactory(clf)}\")"
   ]
  },
  {
   "cell_type": "code",
   "execution_count": null,
   "id": "dbb3be22-3179-4f13-aada-76313a9d7334",
   "metadata": {
    "tags": []
   },
   "outputs": [],
   "source": [
    "importances = clf.feature_importances_\n",
    "std = np.std([tree.feature_importances_ for tree in clf.estimators_], axis=0)"
   ]
  },
  {
   "cell_type": "code",
   "execution_count": null,
   "id": "ea0c0003-1b85-4bc2-af9a-d2e77098f08a",
   "metadata": {
    "tags": []
   },
   "outputs": [],
   "source": [
    "forest_importances = pd.Series(importances, index=X.columns)\n",
    "\n",
    "fig, ax = plt.subplots(figsize=(12, 8))\n",
    "forest_importances.plot.bar(yerr=std, ax=ax)\n",
    "ax.set_title(\"Feature importances using MDI\")\n",
    "ax.set_ylabel(\"Mean decrease in impurity\")\n",
    "plt.grid('on')\n",
    "fig.tight_layout()"
   ]
  },
  {
   "cell_type": "markdown",
   "id": "67d23e69-312e-4bfb-8f90-3aaf21d6d8d0",
   "metadata": {},
   "source": [
    "## Feature importance"
   ]
  },
  {
   "cell_type": "code",
   "execution_count": null,
   "id": "30803db1-c385-478d-a763-d59060065737",
   "metadata": {
    "tags": []
   },
   "outputs": [],
   "source": [
    "from sklearn.inspection import permutation_importance"
   ]
  },
  {
   "cell_type": "code",
   "execution_count": null,
   "id": "1b61e0cd-5be1-4f48-92b2-84732d25a273",
   "metadata": {
    "tags": []
   },
   "outputs": [],
   "source": [
    "feature_importances_permutation = permutation_importance(clf, X_train, y_train, n_repeats=3, n_jobs=-1)"
   ]
  },
  {
   "cell_type": "markdown",
   "id": "a6b246a4-bdc9-4f5d-ae13-abdf3341a455",
   "metadata": {},
   "source": [
    "# Predict X_test file"
   ]
  },
  {
   "cell_type": "code",
   "execution_count": null,
   "id": "7eafc398-1f8a-4753-b0df-cdc8a7bab1fd",
   "metadata": {
    "tags": []
   },
   "outputs": [],
   "source": [
    "real_test = pd.read_csv(\"datasets/X_test_working.csv\")"
   ]
  },
  {
   "cell_type": "code",
   "execution_count": null,
   "id": "ac2aa626-8b18-481d-ac10-1aa82c907f84",
   "metadata": {
    "tags": []
   },
   "outputs": [],
   "source": [
    "add_gscpi_to_df(real_test)"
   ]
  },
  {
   "cell_type": "code",
   "execution_count": null,
   "id": "08f0ed11-f11b-4f32-acac-b5bfe3bfbbea",
   "metadata": {
    "tags": []
   },
   "outputs": [],
   "source": [
    "add_lpi_to_df(real_test)"
   ]
  },
  {
   "cell_type": "code",
   "execution_count": null,
   "id": "56ee2e63-2c42-40dd-9723-0c4be27be827",
   "metadata": {
    "tags": []
   },
   "outputs": [],
   "source": [
    "real_test = real_test[features_to_keep]\n",
    "real_test.shape"
   ]
  },
  {
   "cell_type": "code",
   "execution_count": null,
   "id": "aeb09068-7d94-4e44-9c12-18ed216f2951",
   "metadata": {
    "tags": []
   },
   "outputs": [],
   "source": [
    "real_test_not_encoded = real_test[real_test.columns[index_fst_not_encoded:]]\n",
    "real_test = enc.transform(real_test[real_test.columns[:index_fst_not_encoded]])\n",
    "real_test = np.hstack((real_test, real_test_not_encoded))"
   ]
  },
  {
   "cell_type": "code",
   "execution_count": null,
   "id": "2d4dbb83-1e6e-443d-9dc5-a9017bea5c8f",
   "metadata": {
    "tags": []
   },
   "outputs": [],
   "source": [
    "real_pred = clf.predict(real_test)"
   ]
  },
  {
   "cell_type": "code",
   "execution_count": null,
   "id": "657feb78-3cd4-4c9e-a55f-c807eea09911",
   "metadata": {
    "tags": []
   },
   "outputs": [],
   "source": [
    "real_test_results = pd.DataFrame()\n",
    "real_test_results['index'] = pd.read_csv(\"datasets/X_test_working.csv\")['index'].values\n",
    "real_test_results['Month 4'] = real_pred"
   ]
  },
  {
   "cell_type": "code",
   "execution_count": null,
   "id": "b4b65e4c-c26b-46ce-8eaa-bc856c999e85",
   "metadata": {
    "tags": []
   },
   "outputs": [],
   "source": [
    "real_test_results"
   ]
  },
  {
   "cell_type": "raw",
   "id": "0610e787-ba6c-46a5-ae28-a150ccb1f25a",
   "metadata": {
    "tags": []
   },
   "source": [
    "real_test_results.to_csv(\"datasets/real_test_results.csv\", index=False, sep=\";\")"
   ]
  }
 ],
 "metadata": {
  "kernelspec": {
   "display_name": "Python 3 (ipykernel)",
   "language": "python",
   "name": "python3"
  },
  "language_info": {
   "codemirror_mode": {
    "name": "ipython",
    "version": 3
   },
   "file_extension": ".py",
   "mimetype": "text/x-python",
   "name": "python",
   "nbconvert_exporter": "python",
   "pygments_lexer": "ipython3",
   "version": "3.10.12"
  }
 },
 "nbformat": 4,
 "nbformat_minor": 5
}
