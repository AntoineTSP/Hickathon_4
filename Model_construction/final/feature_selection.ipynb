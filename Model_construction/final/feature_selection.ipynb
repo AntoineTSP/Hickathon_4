{
 "cells": [
  {
   "cell_type": "code",
   "execution_count": null,
   "id": "4f29f204-ca83-4173-bea6-0d37733c450a",
   "metadata": {},
   "outputs": [],
   "source": [
    "import pandas as pd\n",
    "import numpy as np\n",
    "from tqdm import tqdm\n",
    "import matplotlib.pyplot as plt\n",
    "\n",
    "import warnings\n",
    "warnings.filterwarnings(\"ignore\")"
   ]
  },
  {
   "cell_type": "markdown",
   "id": "3d06a6cf-5124-47da-83ba-52ca47a8849c",
   "metadata": {},
   "source": [
    "### Load datasets"
   ]
  },
  {
   "cell_type": "code",
   "execution_count": null,
   "id": "c2f281a3-216c-4b0f-bb6d-fd792c2dba28",
   "metadata": {
    "tags": []
   },
   "outputs": [],
   "source": [
    "def to_int(x):\n",
    "    if pd.isna(x):\n",
    "        return x\n",
    "    if isinstance(x, int):\n",
    "        return x\n",
    "    return int(x.replace(\" \", \"\"))"
   ]
  },
  {
   "cell_type": "code",
   "execution_count": null,
   "id": "e00fc009-ac3a-4b12-beed-2c09c0cba601",
   "metadata": {
    "tags": []
   },
   "outputs": [],
   "source": [
    "df = pd.read_csv(\"datasets/train.csv\")\n",
    "df['Month 4'] = df['Month 4'].apply(lambda x: to_int(x))\n",
    "df"
   ]
  },
  {
   "cell_type": "markdown",
   "id": "5c18afc5-566e-417f-a8b4-2d962e04578e",
   "metadata": {
    "tags": []
   },
   "source": [
    "## Extra Datasets"
   ]
  },
  {
   "cell_type": "code",
   "execution_count": null,
   "id": "76eb173a-cff5-4617-92a4-da14605dab38",
   "metadata": {
    "tags": []
   },
   "outputs": [],
   "source": [
    "gspci = pd.read_csv(\"datasets/extra-dataset/GSCPI_data.csv\", sep=\",\")\n",
    "gspci['Year'] = gspci['Year-Month'].apply(lambda x: x.split('-')[0]).astype(int)\n",
    "gspci['Month'] = gspci['Year-Month'].apply(lambda x: x.split('-')[1]).astype(int)\n",
    "gspci.drop(columns=['Year-Month'], inplace=True)\n",
    "gspci.head(3)"
   ]
  },
  {
   "cell_type": "code",
   "execution_count": null,
   "id": "9b1059a0-745b-4e7a-bf24-2817a5e6b3fe",
   "metadata": {
    "tags": []
   },
   "outputs": [],
   "source": [
    "lpi = pd.read_csv(\"datasets/extra-dataset/LPIextend.csv\")\n",
    "lpi.drop(columns=[\"Unnamed: 0\", \"ID\"], inplace=True)\n",
    "lpi.loc[lpi.Country == 'Taiwan, China', 'Country'] = 'Taiwan'\n",
    "lpi.head(3)"
   ]
  },
  {
   "cell_type": "code",
   "execution_count": null,
   "id": "73c06469-0867-495e-a97a-93c920fe5f7b",
   "metadata": {
    "tags": []
   },
   "outputs": [],
   "source": [
    "wb_eco = pd.read_csv(\"datasets/extra-dataset/worldbank_economic_data.csv\")\n",
    "wb_eco.head(3)"
   ]
  },
  {
   "cell_type": "code",
   "execution_count": null,
   "id": "a977b798-a532-4f7a-b19b-262b90468200",
   "metadata": {
    "tags": []
   },
   "outputs": [],
   "source": [
    "wb_inf = pd.read_csv(\"datasets/extra-dataset/worldbank_inflation_data.csv\")\n",
    "wb_inf['Year'] = wb_inf['Year-Month'].apply(lambda x: x.split('-')[0])\n",
    "wb_inf['Month'] = wb_inf['Year-Month'].apply(lambda x: x.split('-')[1])\n",
    "wb_inf.drop(columns=['Year-Month'], inplace=True)\n",
    "wb_inf.head(3)"
   ]
  },
  {
   "cell_type": "markdown",
   "id": "6273460e-0aad-4dc8-bb5c-33b80615d3f4",
   "metadata": {},
   "source": [
    "## Add from extra-datasets"
   ]
  },
  {
   "cell_type": "code",
   "execution_count": null,
   "id": "a3d64ccf-4a6e-4d13-a2af-1ec3523e437f",
   "metadata": {
    "tags": []
   },
   "outputs": [],
   "source": [
    "def get_mean_gspci(date):\n",
    "    months, year = date.split(\" \")\n",
    "    year = int(year)\n",
    "    gscpi_months = []\n",
    "    if months == 'may-aug':\n",
    "        gscpi_months = [5, 6, 7, 8]\n",
    "    elif months == 'sep-dec':\n",
    "        gscpi_months = [9, 10, 11, 12]\n",
    "    elif months == 'jan-apr':\n",
    "        gscpi_months = [1, 2, 3, 4]\n",
    "    elif months == 'may-jul':\n",
    "        gscpi_months = [5, 6, 7]\n",
    "        \n",
    "    return gspci.loc[(gspci.Year == year) & (gspci.Month.isin(gscpi_months))].GSCPI.mean()"
   ]
  },
  {
   "cell_type": "code",
   "execution_count": null,
   "id": "7016a05b-c5a7-4f63-a24e-d0cb0bb083a8",
   "metadata": {
    "tags": []
   },
   "outputs": [],
   "source": [
    "df['gscpi'] = [0]*len(df)"
   ]
  },
  {
   "cell_type": "code",
   "execution_count": null,
   "id": "65a4602e-b4b1-464a-9aeb-e1419a200b13",
   "metadata": {
    "tags": []
   },
   "outputs": [],
   "source": [
    "for date in df.Date.unique():\n",
    "    df.loc[df.Date == date, 'gscpi'] = get_mean_gspci(date)"
   ]
  },
  {
   "cell_type": "markdown",
   "id": "0e4003e0-d3c9-4aea-9b36-dd75319ac9b6",
   "metadata": {},
   "source": [
    "### Add country codes to extra datasets"
   ]
  },
  {
   "cell_type": "code",
   "execution_count": null,
   "id": "aa1a2cf8-f99e-4c9d-a6cc-43f0576a2761",
   "metadata": {
    "tags": []
   },
   "outputs": [],
   "source": [
    "country_codes = pd.read_csv('datasets/country_codes.txt', sep=',')\n",
    "country_codes.head(3)"
   ]
  },
  {
   "cell_type": "code",
   "execution_count": null,
   "id": "36553555-22a4-4bc4-b83e-6e11353fc92d",
   "metadata": {
    "tags": []
   },
   "outputs": [],
   "source": [
    "def get_country_code(country):\n",
    "    df_country = country_codes.loc[country_codes.Name.str.contains(country)]\n",
    "    if len(df_country) == 0:\n",
    "        return \"NoCode\"\n",
    "    return df_country.Code.iloc[0]\n",
    "\n",
    "def insert_code(df, index):\n",
    "    df.insert(index, \"Country_code\", df.Country.apply(lambda country: get_country_code(country)))"
   ]
  },
  {
   "cell_type": "code",
   "execution_count": null,
   "id": "c1ad9e8f-63c1-48d6-9de0-abea52c3dbac",
   "metadata": {
    "tags": []
   },
   "outputs": [],
   "source": [
    "insert_code(lpi, 1)"
   ]
  },
  {
   "cell_type": "code",
   "execution_count": null,
   "id": "69155fdf-3cbf-4e0f-9b8b-463c26b3660c",
   "metadata": {
    "tags": []
   },
   "outputs": [],
   "source": [
    "insert_code(wb_eco, 1)"
   ]
  },
  {
   "cell_type": "code",
   "execution_count": null,
   "id": "f423478e-67d2-4123-8131-0fa8fe06a2ac",
   "metadata": {
    "tags": []
   },
   "outputs": [],
   "source": [
    "insert_code(wb_inf, 1)"
   ]
  },
  {
   "cell_type": "markdown",
   "id": "e8f13669-eea4-45ed-979c-d39f089aa7e4",
   "metadata": {},
   "source": [
    "## Add LPI"
   ]
  },
  {
   "cell_type": "code",
   "execution_count": null,
   "id": "627260bd-e9ba-4b79-87cb-40500fa03262",
   "metadata": {
    "tags": []
   },
   "outputs": [],
   "source": [
    "lpi_col_to_add = ['Customs Score', 'Logistics Competence and Quality Score', 'International Shipments Score']"
   ]
  },
  {
   "cell_type": "code",
   "execution_count": null,
   "id": "e9cd77ef-82b6-40ca-8f4b-e6919ad47000",
   "metadata": {
    "tags": []
   },
   "outputs": [],
   "source": [
    "for col in lpi_col_to_add:\n",
    "    df[col] = ['']*len(df)"
   ]
  },
  {
   "cell_type": "code",
   "execution_count": null,
   "id": "097f6d72-73be-4687-8041-5f5ec827e3ca",
   "metadata": {
    "tags": []
   },
   "outputs": [],
   "source": [
    "for country_code in df.Country.unique():\n",
    "    lpi_country = lpi.loc[lpi.Country_code == country_code]\n",
    "    for col in lpi_col_to_add:\n",
    "        df.loc[df.Country == country_code, col] = lpi_country[col].iloc[0]"
   ]
  },
  {
   "cell_type": "markdown",
   "id": "2127a9ad-ad18-474e-b16c-96a60ad2a4c4",
   "metadata": {},
   "source": [
    "## Split Data"
   ]
  },
  {
   "cell_type": "code",
   "execution_count": null,
   "id": "083ef41a-32c2-43da-b8c2-3caa789e4318",
   "metadata": {
    "tags": []
   },
   "outputs": [],
   "source": [
    "from sklearn.model_selection import train_test_split"
   ]
  },
  {
   "cell_type": "code",
   "execution_count": null,
   "id": "5f332566-7744-4409-a51f-d8469209edd4",
   "metadata": {
    "tags": []
   },
   "outputs": [],
   "source": [
    "df.dropna(inplace=True)\n",
    "X = df[df.columns[2:]]\n",
    "X.drop(columns=['Month 4'], inplace=True)"
   ]
  },
  {
   "cell_type": "code",
   "execution_count": null,
   "id": "8acce7f6-3c13-4cd8-8820-8234da80324f",
   "metadata": {
    "tags": []
   },
   "outputs": [],
   "source": [
    "y = df['Month 4']"
   ]
  },
  {
   "cell_type": "code",
   "execution_count": null,
   "id": "8ca7038d-020d-4190-a9e1-49739bfe8e40",
   "metadata": {
    "tags": []
   },
   "outputs": [],
   "source": [
    "X_train, X_test, y_train, y_test = train_test_split(X, y)"
   ]
  },
  {
   "cell_type": "code",
   "execution_count": null,
   "id": "e7860969-27d1-4b31-ab83-7e29aba4a029",
   "metadata": {
    "tags": []
   },
   "outputs": [],
   "source": [
    "print(f\"X_train shape -> {X_train.shape}, X_test shape -> {X_test.shape}\")"
   ]
  },
  {
   "cell_type": "markdown",
   "id": "41d72a0a-c0c8-4dd6-9d62-7ee244126a42",
   "metadata": {},
   "source": [
    "## Target Encoding"
   ]
  },
  {
   "cell_type": "code",
   "execution_count": null,
   "id": "c1854abd-699d-4e6c-97dd-11fa853cfdaa",
   "metadata": {
    "tags": []
   },
   "outputs": [],
   "source": [
    "from sklearn.preprocessing import TargetEncoder"
   ]
  },
  {
   "cell_type": "code",
   "execution_count": null,
   "id": "210e02f2-dff6-40f4-ad80-c9c631bbfefc",
   "metadata": {
    "tags": []
   },
   "outputs": [],
   "source": [
    "enc = TargetEncoder(target_type='continuous')"
   ]
  },
  {
   "cell_type": "code",
   "execution_count": null,
   "id": "ed0e76d3-1334-49be-8e06-8c34a5e97f16",
   "metadata": {
    "tags": []
   },
   "outputs": [],
   "source": [
    "index_fst_not_encoded = list(X.columns).index('Month 1')"
   ]
  },
  {
   "cell_type": "code",
   "execution_count": null,
   "id": "97690480-9bfd-41fe-88a8-5a313e40998f",
   "metadata": {
    "tags": []
   },
   "outputs": [],
   "source": [
    "X_train_not_encoded = X_train[X_train.columns[index_fst_not_encoded:]]\n",
    "X_train = enc.fit_transform(X_train[X_train.columns[:index_fst_not_encoded]], y_train)\n",
    "X_train = np.hstack((X_train, X_train_not_encoded))"
   ]
  },
  {
   "cell_type": "code",
   "execution_count": null,
   "id": "43c64f61-7fb8-4ca4-be76-b7bf8d9391a3",
   "metadata": {
    "tags": []
   },
   "outputs": [],
   "source": [
    "X_test_not_encoded = X_test[X_test.columns[index_fst_not_encoded:]]\n",
    "X_test = enc.fit_transform(X_test[X_test.columns[:index_fst_not_encoded]], y_test)\n",
    "X_test = np.hstack((X_test, X_test_not_encoded))"
   ]
  },
  {
   "cell_type": "markdown",
   "id": "085ca266-95c9-4141-8564-82bbf05196b4",
   "metadata": {
    "tags": []
   },
   "source": [
    "## Random forest"
   ]
  },
  {
   "cell_type": "code",
   "execution_count": null,
   "id": "6a50a399-aac3-4606-9547-9bee4e234a3d",
   "metadata": {
    "tags": []
   },
   "outputs": [],
   "source": [
    "from sklearn.ensemble import RandomForestRegressor\n",
    "from sklearn.ensemble import HistGradientBoostingRegressor"
   ]
  },
  {
   "cell_type": "code",
   "execution_count": null,
   "id": "8256f5da-c5f2-42bb-956c-51b3b0d1417d",
   "metadata": {
    "tags": []
   },
   "outputs": [],
   "source": [
    "clf = RandomForestRegressor(n_estimators=150, verbose=10, n_jobs=-1)\n",
    "#clf = HistGradientBoostingRegressor(max_iter=1000, verbose=10, learning_rate=1e-3)\n",
    "# categorical_mask = np.array([True] * 14 + [False] * 3)\n",
    "# clf = HistGradientBoostingRegressor(max_iter=10_000, verbose=1, learning_rate=1e-3, categorical_features=categorical_mask, warm_start=True)"
   ]
  },
  {
   "cell_type": "code",
   "execution_count": null,
   "id": "b09262f6-7b88-4dc5-b35b-2c4f0ffc5cd5",
   "metadata": {
    "tags": []
   },
   "outputs": [],
   "source": [
    "clf.fit(X_train, y_train)"
   ]
  },
  {
   "cell_type": "code",
   "execution_count": null,
   "id": "80238cbc-63cf-40cb-a304-79c158273f48",
   "metadata": {
    "tags": []
   },
   "outputs": [],
   "source": [
    "from sklearn.metrics import r2_score\n",
    "from sklearn.metrics import mean_squared_error\n",
    "from scipy.stats import pearsonr\n",
    "\n",
    "def scores(model):\n",
    "    y_pred = model.predict(X_test)\n",
    "    r2 = r2_score(y_test, y_pred)\n",
    "    mse = mean_squared_error(y_test, y_pred)\n",
    "    pearson, _ = pearsonr(y_test, y_pred)\n",
    "    return r2, mse, pearson"
   ]
  },
  {
   "cell_type": "code",
   "execution_count": null,
   "id": "757c83b8-1ec5-4fda-ab42-639905a12a55",
   "metadata": {
    "tags": []
   },
   "outputs": [],
   "source": [
    "scores(clf)"
   ]
  },
  {
   "cell_type": "code",
   "execution_count": null,
   "id": "dbb3be22-3179-4f13-aada-76313a9d7334",
   "metadata": {
    "tags": []
   },
   "outputs": [],
   "source": [
    "importances = clf.feature_importances_\n",
    "std = np.std([tree.feature_importances_ for tree in clf.estimators_], axis=0)"
   ]
  },
  {
   "cell_type": "code",
   "execution_count": null,
   "id": "ea0c0003-1b85-4bc2-af9a-d2e77098f08a",
   "metadata": {
    "tags": []
   },
   "outputs": [],
   "source": [
    "forest_importances = pd.Series(importances, index=X.columns)\n",
    "\n",
    "fig, ax = plt.subplots(figsize=(12, 8))\n",
    "forest_importances.plot.bar(yerr=std, ax=ax)\n",
    "ax.set_title(\"Feature importances using MDI\")\n",
    "ax.set_ylabel(\"Mean decrease in impurity\")\n",
    "plt.grid('on')\n",
    "fig.tight_layout()"
   ]
  }
 ],
 "metadata": {
  "kernelspec": {
   "display_name": "Python 3 (ipykernel)",
   "language": "python",
   "name": "python3"
  },
  "language_info": {
   "codemirror_mode": {
    "name": "ipython",
    "version": 3
   },
   "file_extension": ".py",
   "mimetype": "text/x-python",
   "name": "python",
   "nbconvert_exporter": "python",
   "pygments_lexer": "ipython3",
   "version": "3.10.12"
  }
 },
 "nbformat": 4,
 "nbformat_minor": 5
}
