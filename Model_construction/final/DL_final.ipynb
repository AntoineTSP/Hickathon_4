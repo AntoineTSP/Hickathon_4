{
 "cells": [
  {
   "cell_type": "code",
   "execution_count": null,
   "id": "4f29f204-ca83-4173-bea6-0d37733c450a",
   "metadata": {},
   "outputs": [],
   "source": [
    "import pandas as pd\n",
    "import numpy as np\n",
    "from tqdm import tqdm\n",
    "import matplotlib.pyplot as plt\n",
    "\n",
    "import warnings\n",
    "warnings.filterwarnings(\"ignore\")"
   ]
  },
  {
   "cell_type": "markdown",
   "id": "3d06a6cf-5124-47da-83ba-52ca47a8849c",
   "metadata": {},
   "source": [
    "### Load datasets"
   ]
  },
  {
   "cell_type": "code",
   "execution_count": null,
   "id": "e00fc009-ac3a-4b12-beed-2c09c0cba601",
   "metadata": {
    "tags": []
   },
   "outputs": [],
   "source": [
    "df = pd.read_csv(\"datasets/train_prev_months.csv\")\n",
    "df"
   ]
  },
  {
   "cell_type": "markdown",
   "id": "5c18afc5-566e-417f-a8b4-2d962e04578e",
   "metadata": {
    "tags": []
   },
   "source": [
    "## Extra Datasets"
   ]
  },
  {
   "cell_type": "code",
   "execution_count": null,
   "id": "76eb173a-cff5-4617-92a4-da14605dab38",
   "metadata": {
    "tags": []
   },
   "outputs": [],
   "source": [
    "gspci = pd.read_csv(\"datasets/extra-dataset/GSCPI_data.csv\", sep=\",\")\n",
    "gspci['Year'] = gspci['Year-Month'].apply(lambda x: x.split('-')[0]).astype(int)\n",
    "gspci['Month'] = gspci['Year-Month'].apply(lambda x: x.split('-')[1]).astype(int)\n",
    "gspci.drop(columns=['Year-Month'], inplace=True)\n",
    "gspci.head(3)"
   ]
  },
  {
   "cell_type": "code",
   "execution_count": null,
   "id": "9b1059a0-745b-4e7a-bf24-2817a5e6b3fe",
   "metadata": {
    "tags": []
   },
   "outputs": [],
   "source": [
    "lpi = pd.read_csv(\"datasets/extra-dataset/LPIextend.csv\")\n",
    "lpi.drop(columns=[\"Unnamed: 0\", \"ID\"], inplace=True)\n",
    "lpi.loc[lpi.Country == 'Taiwan, China', 'Country'] = 'Taiwan'\n",
    "lpi.head(3)"
   ]
  },
  {
   "cell_type": "code",
   "execution_count": null,
   "id": "73c06469-0867-495e-a97a-93c920fe5f7b",
   "metadata": {
    "tags": []
   },
   "outputs": [],
   "source": [
    "wb_eco = pd.read_csv(\"datasets/extra-dataset/worldbank_economic_data.csv\")\n",
    "wb_eco.head(3)"
   ]
  },
  {
   "cell_type": "code",
   "execution_count": null,
   "id": "a977b798-a532-4f7a-b19b-262b90468200",
   "metadata": {
    "tags": []
   },
   "outputs": [],
   "source": [
    "wb_inf = pd.read_csv(\"datasets/extra-dataset/worldbank_inflation_data.csv\")\n",
    "wb_inf['Year'] = wb_inf['Year-Month'].apply(lambda x: x.split('-')[0])\n",
    "wb_inf['Month'] = wb_inf['Year-Month'].apply(lambda x: x.split('-')[1])\n",
    "wb_inf.drop(columns=['Year-Month'], inplace=True)\n",
    "wb_inf.head(3)"
   ]
  },
  {
   "cell_type": "markdown",
   "id": "6273460e-0aad-4dc8-bb5c-33b80615d3f4",
   "metadata": {},
   "source": [
    "## Add from extra-datasets"
   ]
  },
  {
   "cell_type": "code",
   "execution_count": null,
   "id": "a3d64ccf-4a6e-4d13-a2af-1ec3523e437f",
   "metadata": {
    "tags": []
   },
   "outputs": [],
   "source": [
    "def get_mean_gspci(date):\n",
    "    months, year = date.split(\" \")\n",
    "    year = int(year)\n",
    "    gscpi_months = []\n",
    "    if months == 'may-aug':\n",
    "        gscpi_months = [5, 6, 7, 8]\n",
    "    elif months == 'sep-dec':\n",
    "        gscpi_months = [9, 10, 11, 12]\n",
    "    elif months == 'jan-apr':\n",
    "        gscpi_months = [1, 2, 3, 4]\n",
    "    elif months == 'may-jul':\n",
    "        gscpi_months = [5, 6, 7]\n",
    "        \n",
    "    return gspci.loc[(gspci.Year == year) & (gspci.Month.isin(gscpi_months))].GSCPI.mean()"
   ]
  },
  {
   "cell_type": "code",
   "execution_count": null,
   "id": "7016a05b-c5a7-4f63-a24e-d0cb0bb083a8",
   "metadata": {
    "tags": []
   },
   "outputs": [],
   "source": [
    "df['gscpi'] = [0]*len(df)"
   ]
  },
  {
   "cell_type": "code",
   "execution_count": null,
   "id": "65a4602e-b4b1-464a-9aeb-e1419a200b13",
   "metadata": {
    "tags": []
   },
   "outputs": [],
   "source": [
    "for date in df.Date.unique():\n",
    "    df.loc[df.Date == date, 'gscpi'] = get_mean_gspci(date)"
   ]
  },
  {
   "cell_type": "markdown",
   "id": "0e4003e0-d3c9-4aea-9b36-dd75319ac9b6",
   "metadata": {},
   "source": [
    "### Add country codes to extra datasets"
   ]
  },
  {
   "cell_type": "code",
   "execution_count": null,
   "id": "aa1a2cf8-f99e-4c9d-a6cc-43f0576a2761",
   "metadata": {
    "tags": []
   },
   "outputs": [],
   "source": [
    "country_codes = pd.read_csv('datasets/country_codes.txt', sep=',')\n",
    "country_codes.loc[country_codes.Name == 'Namibia', 'Code'] = 'NA'\n",
    "country_codes.loc[country_codes.Code == 'ID', 'Code'] = 'Id'\n",
    "country_codes.head(3)"
   ]
  },
  {
   "cell_type": "code",
   "execution_count": null,
   "id": "36553555-22a4-4bc4-b83e-6e11353fc92d",
   "metadata": {
    "tags": []
   },
   "outputs": [],
   "source": [
    "def get_country_code(country):\n",
    "    df_country = country_codes.loc[country_codes.Name.str.contains(country)]\n",
    "    if len(df_country) == 0:\n",
    "        return \"NoCode\"\n",
    "    return (df_country.Code.iloc[0])\n",
    "\n",
    "def insert_code(df, index):\n",
    "    df.insert(index, \"Country_code\", df.Country.apply(lambda country: get_country_code(country)))"
   ]
  },
  {
   "cell_type": "code",
   "execution_count": null,
   "id": "c1ad9e8f-63c1-48d6-9de0-abea52c3dbac",
   "metadata": {
    "tags": []
   },
   "outputs": [],
   "source": [
    "insert_code(lpi, 1)"
   ]
  },
  {
   "cell_type": "code",
   "execution_count": null,
   "id": "69155fdf-3cbf-4e0f-9b8b-463c26b3660c",
   "metadata": {
    "tags": []
   },
   "outputs": [],
   "source": [
    "insert_code(wb_eco, 1)"
   ]
  },
  {
   "cell_type": "code",
   "execution_count": null,
   "id": "f423478e-67d2-4123-8131-0fa8fe06a2ac",
   "metadata": {
    "tags": []
   },
   "outputs": [],
   "source": [
    "insert_code(wb_inf, 1)"
   ]
  },
  {
   "cell_type": "markdown",
   "id": "e8f13669-eea4-45ed-979c-d39f089aa7e4",
   "metadata": {},
   "source": [
    "## Add LPI"
   ]
  },
  {
   "cell_type": "code",
   "execution_count": null,
   "id": "627260bd-e9ba-4b79-87cb-40500fa03262",
   "metadata": {
    "tags": []
   },
   "outputs": [],
   "source": [
    "lpi_col_to_add = ['Customs Score', 'Logistics Competence and Quality Score', 'International Shipments Score']"
   ]
  },
  {
   "cell_type": "code",
   "execution_count": null,
   "id": "e9cd77ef-82b6-40ca-8f4b-e6919ad47000",
   "metadata": {
    "tags": []
   },
   "outputs": [],
   "source": [
    "for col in lpi_col_to_add:\n",
    "    df[col] = ['']*len(df)"
   ]
  },
  {
   "cell_type": "code",
   "execution_count": null,
   "id": "097f6d72-73be-4687-8041-5f5ec827e3ca",
   "metadata": {
    "tags": []
   },
   "outputs": [],
   "source": [
    "for country_code in df.Country.unique():\n",
    "    lpi_country = lpi.loc[lpi.Country_code == country_code]\n",
    "    try:\n",
    "        for col in lpi_col_to_add:\n",
    "            df.loc[df.Country == country_code, col] = lpi_country[col].iloc[0]\n",
    "    except:\n",
    "        print(country_code)"
   ]
  },
  {
   "cell_type": "markdown",
   "id": "2127a9ad-ad18-474e-b16c-96a60ad2a4c4",
   "metadata": {},
   "source": [
    "## Split Data"
   ]
  },
  {
   "cell_type": "code",
   "execution_count": null,
   "id": "083ef41a-32c2-43da-b8c2-3caa789e4318",
   "metadata": {
    "tags": []
   },
   "outputs": [],
   "source": [
    "from sklearn.model_selection import train_test_split"
   ]
  },
  {
   "cell_type": "code",
   "execution_count": null,
   "id": "def20dc5-935f-4a42-bf74-2675043f4b66",
   "metadata": {
    "tags": []
   },
   "outputs": [],
   "source": [
    "features_to_keep = ['Site', 'Reference proxy', 'Customer Persona proxy', 'Strategic Product Family proxy', 'gscpi', 'id_product', \n",
    "                    'Prev.Month 1', 'Prev.Month 2', 'Prev.Month 3', 'Month 1', 'Month 2', 'Month 3']"
   ]
  },
  {
   "cell_type": "code",
   "execution_count": null,
   "id": "5f332566-7744-4409-a51f-d8469209edd4",
   "metadata": {
    "tags": []
   },
   "outputs": [],
   "source": [
    "X = df[features_to_keep]\n",
    "X.dropna(inplace=True)\n",
    "X.shape"
   ]
  },
  {
   "cell_type": "code",
   "execution_count": null,
   "id": "8acce7f6-3c13-4cd8-8820-8234da80324f",
   "metadata": {
    "tags": []
   },
   "outputs": [],
   "source": [
    "y = df['Month 4']"
   ]
  },
  {
   "cell_type": "code",
   "execution_count": null,
   "id": "8ca7038d-020d-4190-a9e1-49739bfe8e40",
   "metadata": {
    "tags": []
   },
   "outputs": [],
   "source": [
    "X_train, X_test, y_train, y_test = train_test_split(X, y)"
   ]
  },
  {
   "cell_type": "code",
   "execution_count": null,
   "id": "e7860969-27d1-4b31-ab83-7e29aba4a029",
   "metadata": {
    "tags": []
   },
   "outputs": [],
   "source": [
    "print(f\"X_train shape -> {X_train.shape}, X_test shape -> {X_test.shape}\")"
   ]
  },
  {
   "cell_type": "markdown",
   "id": "41d72a0a-c0c8-4dd6-9d62-7ee244126a42",
   "metadata": {},
   "source": [
    "## Target Encoding"
   ]
  },
  {
   "cell_type": "code",
   "execution_count": null,
   "id": "c1854abd-699d-4e6c-97dd-11fa853cfdaa",
   "metadata": {
    "tags": []
   },
   "outputs": [],
   "source": [
    "from sklearn.preprocessing import TargetEncoder"
   ]
  },
  {
   "cell_type": "code",
   "execution_count": null,
   "id": "210e02f2-dff6-40f4-ad80-c9c631bbfefc",
   "metadata": {
    "tags": []
   },
   "outputs": [],
   "source": [
    "enc = TargetEncoder(target_type='continuous')"
   ]
  },
  {
   "cell_type": "code",
   "execution_count": null,
   "id": "ed0e76d3-1334-49be-8e06-8c34a5e97f16",
   "metadata": {
    "tags": []
   },
   "outputs": [],
   "source": [
    "index_fst_not_encoded = list(X.columns).index('gscpi')"
   ]
  },
  {
   "cell_type": "code",
   "execution_count": null,
   "id": "97690480-9bfd-41fe-88a8-5a313e40998f",
   "metadata": {
    "tags": []
   },
   "outputs": [],
   "source": [
    "X_train_not_encoded = X_train[X_train.columns[index_fst_not_encoded:]]\n",
    "X_train = enc.fit_transform(X_train[X_train.columns[:index_fst_not_encoded]], y_train)\n",
    "X_train = np.hstack((X_train, X_train_not_encoded))"
   ]
  },
  {
   "cell_type": "code",
   "execution_count": null,
   "id": "43c64f61-7fb8-4ca4-be76-b7bf8d9391a3",
   "metadata": {
    "tags": []
   },
   "outputs": [],
   "source": [
    "X_test_not_encoded = X_test[X_test.columns[index_fst_not_encoded:]]\n",
    "X_test = enc.fit_transform(X_test[X_test.columns[:index_fst_not_encoded]], y_test)\n",
    "X_test = np.hstack((X_test, X_test_not_encoded))"
   ]
  },
  {
   "cell_type": "markdown",
   "id": "87fce3ee-a5cf-4d2c-8318-01ec4b44e57f",
   "metadata": {},
   "source": [
    "## MLP"
   ]
  },
  {
   "cell_type": "code",
   "execution_count": null,
   "id": "ddc3aa6a-0ab2-438c-9ad7-8aad3e6f2d8d",
   "metadata": {},
   "outputs": [],
   "source": [
    "import tensorflow as tf\n",
    "from tensorflow.keras.models import Sequential\n",
    "from tensorflow.keras.layers import Dense, Dropout, LSTM, Reshape, InputLayer, BatchNormalization\n",
    "from tensorflow.keras import regularizers\n",
    "from tensorflow.keras.callbacks import EarlyStopping, ModelCheckpoint\n",
    "\n",
    "input_shape = X_train.shape[1:]\n",
    "\n",
    "\n",
    "model = Sequential()\n",
    "\n",
    "model.add(InputLayer(input_shape=input_shape))\n",
    "\n",
    "model.add(Dense(4096, input_shape=input_shape, activation='relu', kernel_regularizer=regularizers.l1(0.1)))\n",
    "model.add(Dropout(0.5))  \n",
    "\n",
    "model.add(Dense(512, activation='relu', kernel_regularizer=regularizers.l1(0.01)))\n",
    "model.add(Dropout(0.4))  \n",
    "\n",
    "model.add(Dense(64, activation='relu', kernel_regularizer=regularizers.l1(0.01)))\n",
    "model.add(Dropout(0.3)) \n",
    "\n",
    "# model.add(Dense(128, activation='relu', kernel_regularizer=regularizers.l1(0.01)))\n",
    "# model.add(Dropout(0.3)) \n",
    "\n",
    "model.add(Dense(1, activation='linear'))  "
   ]
  },
  {
   "cell_type": "raw",
   "id": "848f6d96-76e6-4127-af92-f62386d68866",
   "metadata": {},
   "source": [
    "from tensorflow.keras.models import Model\n",
    "from tensorflow.keras.layers import Input, LSTM, BatchNormalization, Dropout, Dense, concatenate\n",
    "from tensorflow.keras import regularizers\n",
    "from tensorflow.keras.callbacks import EarlyStopping, ModelCheckpoint\n",
    "import tensorflow as tf\n",
    "\n",
    "input_shape = X_train.shape[1:]\n",
    "num_additional_features = X_train_additional.shape[1]\n",
    "\n",
    "sequence_input = Input(shape=(input_shape), name='sequence_input')\n",
    "lstm_output = LSTM(units=128, return_sequences=True)(sequence_input)\n",
    "#lstm_output = BatchNormalization()(lstm_output)\n",
    "lstm_output = LSTM(units=128, return_sequences=True)(lstm_output)\n",
    "\n",
    "lstm_output_reshaped = LSTM(units=128)(lstm_output)\n",
    "\n",
    "additional_input = Input(shape=(num_additional_features,), name='additional_input')\n",
    "\n",
    "merged = concatenate([lstm_output_reshaped, additional_input])\n",
    "\n",
    "# merged = LSTM(units=128)(merged)\n",
    "# merged = BatchNormalization()(merged)\n",
    "merged = Dropout(0.4)(merged)\n",
    "\n",
    "merged = Dense(1024, activation='relu', kernel_regularizer=regularizers.l1(0.01))(merged)\n",
    "merged = Dropout(0.4)(merged)\n",
    "\n",
    "merged = Dense(64, activation='relu', kernel_regularizer=regularizers.l1(0.01))(merged)\n",
    "merged = Dropout(0.3)(merged)\n",
    "\n",
    "output = Dense(1, activation='linear')(merged)\n",
    "\n",
    "# Create the model\n",
    "model = Model(inputs=[sequence_input, additional_input], outputs=output)"
   ]
  },
  {
   "cell_type": "code",
   "execution_count": null,
   "id": "bd904622-d739-4017-8af5-56b3eb2b4c9d",
   "metadata": {},
   "outputs": [],
   "source": [
    "model.summary()"
   ]
  },
  {
   "cell_type": "code",
   "execution_count": null,
   "id": "1421a0ef-9b4e-407f-b846-af6e9585b5c7",
   "metadata": {},
   "outputs": [],
   "source": [
    "from tensorflow.keras import backend as K\n",
    "\n",
    "# Assuming your model has been defined and compiled\n",
    "\n",
    "# Define a custom Pearson correlation coefficient metric\n",
    "def pearson_correlation(y_true, y_pred):\n",
    "    x = y_true - K.mean(y_true)\n",
    "    y = y_pred - K.mean(y_pred)\n",
    "    pearson_num = K.sum(x * y)\n",
    "    pearson_den = K.sqrt(K.sum(K.square(x)) * K.sum(K.square(y)))\n",
    "    pearson_corr = pearson_num / pearson_den\n",
    "    return pearson_corr\n",
    "\n",
    "def r2_score(y_true, y_pred):\n",
    "    SS_res =  K.sum(K.square(y_true - y_pred)) \n",
    "    SS_tot = K.sum(K.square(y_true - K.mean(y_true))) \n",
    "    return  1 - SS_res/(SS_tot + K.epsilon())\n",
    "\n",
    "def rmse_loss(y_true, y_pred):\n",
    "    return tf.sqrt(tf.reduce_mean(tf.square(tf.cast(y_true, tf.float32) - y_pred)))"
   ]
  },
  {
   "cell_type": "code",
   "execution_count": null,
   "id": "e8b7b155-f794-40f5-83fc-277d7213959a",
   "metadata": {},
   "outputs": [],
   "source": [
    "model.compile(loss=rmse_loss,\n",
    "              optimizer=tf.keras.optimizers.Adam(\n",
    "              learning_rate = 1e-5\n",
    "          ),\n",
    "          metrics=['mse', r2_score, pearson_correlation])"
   ]
  },
  {
   "cell_type": "code",
   "execution_count": null,
   "id": "c59cee80-b0a6-4b8c-bbab-d10c7214fa2e",
   "metadata": {},
   "outputs": [],
   "source": [
    "%run PlotEpochs.ipynb"
   ]
  },
  {
   "cell_type": "code",
   "execution_count": null,
   "id": "f4d385cb-e9f4-428c-a019-633a5662ff09",
   "metadata": {},
   "outputs": [],
   "source": [
    "filepath = 'model.h5'\n",
    "checkpoint = ModelCheckpoint(filepath=filepath, \n",
    "                             monitor='val_loss',\n",
    "                             verbose=1, \n",
    "                             save_best_only=True,\n",
    "                             mode='min')\n",
    "\n",
    "es = EarlyStopping(monitor='val_loss', patience=8, verbose=1)\n",
    "\n",
    "callbacks = [\n",
    "            es,\n",
    "            checkpoint,\n",
    "            PlotLearning()\n",
    "            ]"
   ]
  },
  {
   "cell_type": "code",
   "execution_count": null,
   "id": "0036a35f-b42d-4c5f-8598-a97b61bac220",
   "metadata": {},
   "outputs": [],
   "source": [
    "model.fit(\n",
    "    x=X_train,  # Input data\n",
    "    y=y_train,  # Target data\n",
    "    epochs=100,  # Number of training epochs\n",
    "    batch_size=512,  # Batch size\n",
    "    validation_split=0.2,  # Percentage of data used for validation\n",
    "    callbacks = callbacks\n",
    ")"
   ]
  },
  {
   "cell_type": "markdown",
   "id": "1cff111b-9611-406f-b1d5-882d609250a4",
   "metadata": {},
   "source": [
    "## Predict X_test"
   ]
  },
  {
   "cell_type": "code",
   "execution_count": null,
   "id": "e0f867d2-a764-44bc-8292-6193616d933b",
   "metadata": {},
   "outputs": [],
   "source": [
    "model = tf.keras.models.load_model('model.h5', \n",
    "                          custom_objects={'pearson_correlation': pearson_correlation,\n",
    "                                          'r2_score': r2_score,\n",
    "                                          'rmse_loss': rmse_loss})"
   ]
  },
  {
   "cell_type": "code",
   "execution_count": null,
   "id": "9169703b-df2e-4ad1-90ed-0e28966cee3f",
   "metadata": {},
   "outputs": [],
   "source": [
    "test = pd.read_csv(\"datasets/test_prev_months.csv\")"
   ]
  },
  {
   "cell_type": "code",
   "execution_count": null,
   "id": "68cba735-2840-4545-9411-70df472c98d4",
   "metadata": {},
   "outputs": [],
   "source": [
    "test['gscpi'] = [0]*len(test)\n",
    "for date in test.Date.unique():\n",
    "    test.loc[test.Date == date, 'gscpi'] = get_mean_gspci(date)"
   ]
  },
  {
   "cell_type": "code",
   "execution_count": null,
   "id": "00130e7b-83c2-4433-acaf-26b04605373f",
   "metadata": {
    "tags": []
   },
   "outputs": [],
   "source": [
    "features_to_keep = ['Site', 'Reference proxy', 'Customer Persona proxy', 'Strategic Product Family proxy', 'gscpi', 'id_product', \n",
    "                    'Prev.Month 1', 'Prev.Month 2', 'Prev.Month 3', 'Month 1', 'Month 2', 'Month 3']"
   ]
  },
  {
   "cell_type": "code",
   "execution_count": null,
   "id": "730c1a88-29f8-4072-8a6b-e32a4031fb77",
   "metadata": {
    "tags": []
   },
   "outputs": [],
   "source": [
    "test_X = test[features_to_keep]\n",
    "test_X.shape"
   ]
  },
  {
   "cell_type": "code",
   "execution_count": null,
   "id": "a51069bd-e3d4-4525-b55d-b7ace33ca810",
   "metadata": {
    "tags": []
   },
   "outputs": [],
   "source": [
    "index_fst_not_encoded = list(test_X.columns).index('gscpi')\n",
    "index_fst_not_encoded"
   ]
  },
  {
   "cell_type": "code",
   "execution_count": null,
   "id": "60016047-08ff-45ca-9e01-201f4cf4cfff",
   "metadata": {
    "tags": []
   },
   "outputs": [],
   "source": [
    "test_not_encoded = test_X[test_X.columns[index_fst_not_encoded:]]\n",
    "test_X = enc.transform(test_X[test_X.columns[:index_fst_not_encoded]])\n",
    "test_X = np.hstack((test_X, test_not_encoded))"
   ]
  },
  {
   "cell_type": "code",
   "execution_count": null,
   "id": "14c06ee5-a583-4ebf-97b9-2a290de9ee9d",
   "metadata": {},
   "outputs": [],
   "source": [
    "pred = model.predict(test_X).flatten()"
   ]
  },
  {
   "cell_type": "code",
   "execution_count": null,
   "id": "87141a1b-858b-47e5-a693-869c62fdebc5",
   "metadata": {},
   "outputs": [],
   "source": [
    "real_test_results = pd.DataFrame()\n",
    "real_test_results['index'] = pd.read_csv(\"datasets/X_test_working.csv\")['index'].values\n",
    "real_test_results['Month 4'] = pred"
   ]
  },
  {
   "cell_type": "code",
   "execution_count": null,
   "id": "e2207149-b8b9-49a6-8216-def5b8ade6c1",
   "metadata": {},
   "outputs": [],
   "source": [
    "real_test_results"
   ]
  },
  {
   "cell_type": "code",
   "execution_count": null,
   "id": "d9dafdf1-3e74-42d3-ba6d-31ee52a1bd6d",
   "metadata": {},
   "outputs": [],
   "source": [
    "real_test_results.to_csv(\"datasets/real_test_results_submit3.csv\", index=False, sep=\";\")"
   ]
  },
  {
   "cell_type": "code",
   "execution_count": null,
   "id": "d6413b01-e39b-4df3-adf5-1d8afca7d82c",
   "metadata": {},
   "outputs": [],
   "source": []
  }
 ],
 "metadata": {
  "kernelspec": {
   "display_name": "Python 3 (ipykernel)",
   "language": "python",
   "name": "python3"
  },
  "language_info": {
   "codemirror_mode": {
    "name": "ipython",
    "version": 3
   },
   "file_extension": ".py",
   "mimetype": "text/x-python",
   "name": "python",
   "nbconvert_exporter": "python",
   "pygments_lexer": "ipython3",
   "version": "3.10.13"
  }
 },
 "nbformat": 4,
 "nbformat_minor": 5
}
