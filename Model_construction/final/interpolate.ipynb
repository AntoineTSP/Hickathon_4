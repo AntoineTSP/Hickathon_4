{
 "cells": [
  {
   "cell_type": "code",
   "execution_count": null,
   "id": "4f29f204-ca83-4173-bea6-0d37733c450a",
   "metadata": {},
   "outputs": [],
   "source": [
    "import pandas as pd\n",
    "import numpy as np\n",
    "from tqdm import tqdm\n",
    "import matplotlib.pyplot as plt\n",
    "\n",
    "import warnings\n",
    "warnings.filterwarnings(\"ignore\")"
   ]
  },
  {
   "cell_type": "markdown",
   "id": "3d06a6cf-5124-47da-83ba-52ca47a8849c",
   "metadata": {},
   "source": [
    "### Load datasets"
   ]
  },
  {
   "cell_type": "code",
   "execution_count": null,
   "id": "e00fc009-ac3a-4b12-beed-2c09c0cba601",
   "metadata": {
    "tags": []
   },
   "outputs": [],
   "source": [
    "df = pd.read_csv(\"datasets/train-data.csv\", sep=\";\")\n",
    "df.drop_duplicates(inplace=True)\n",
    "df['Product Life cycel status'].fillna('ACT', inplace=True)\n",
    "df.sort_values(by=\"id_product\", inplace=True, ignore_index=True)\n",
    "df.drop(columns=['index'], inplace=True)\n",
    "df.head(3)"
   ]
  },
  {
   "cell_type": "code",
   "execution_count": null,
   "id": "8270a78a-87ea-4855-98aa-704c7a486305",
   "metadata": {
    "tags": []
   },
   "outputs": [],
   "source": [
    "def to_int(x):\n",
    "    if pd.isna(x):\n",
    "        return x\n",
    "    return int(x.replace(\" \", \"\"))"
   ]
  },
  {
   "cell_type": "code",
   "execution_count": null,
   "id": "0f1a959d-31c3-4c8f-ae2e-dfa068f3737a",
   "metadata": {
    "tags": []
   },
   "outputs": [],
   "source": [
    "for j in range(1, 4):\n",
    "    df[f'Month {j}'] = df[f'Month {j}'].apply(lambda x: to_int(x))"
   ]
  },
  {
   "cell_type": "code",
   "execution_count": null,
   "id": "3f76abff-f9a3-495f-89ec-d2fd5bdafda7",
   "metadata": {
    "tags": []
   },
   "outputs": [],
   "source": [
    "dates = list(df.Date.unique())\n",
    "df_dates = {'sep-dec 2020': 0,\n",
    "            'jan-apr 2021': 1,\n",
    "            'may-aug 2021': 2,\n",
    "            'sep-dec 2021': 3,\n",
    "            'jan-apr 2022': 4,\n",
    "            'may-aug 2022': 5,\n",
    "            'sep-dec 2022': 6,\n",
    "            'jan-apr 2023': 7,\n",
    "            'may-jul 2023': 8\n",
    "           }"
   ]
  },
  {
   "cell_type": "code",
   "execution_count": null,
   "id": "ba0e9a52-efd8-4106-897b-465bd9e0c692",
   "metadata": {
    "tags": []
   },
   "outputs": [],
   "source": [
    "df['order'] = df['Date'].apply(lambda date: df_dates[date])"
   ]
  },
  {
   "cell_type": "code",
   "execution_count": null,
   "id": "8e26942b-b2e5-4fa4-9e7d-f52a13783be2",
   "metadata": {
    "tags": []
   },
   "outputs": [],
   "source": [
    "id_product_missing_values = list(df.loc[df['Month 1'].isna()].id_product)\n",
    "indices_missing_values = list(df.loc[df['Month 1'].isna()].index)"
   ]
  },
  {
   "cell_type": "code",
   "execution_count": null,
   "id": "d743dd19-94d6-4e8d-8bc9-4c064ecd7955",
   "metadata": {
    "tags": []
   },
   "outputs": [],
   "source": [
    "def get_df_product(id_product, index):\n",
    "    last_index_down = index-1\n",
    "    while last_index_down >= 0 and df.id_product.iloc[last_index_down] == id_product:\n",
    "        last_index_down -= 1\n",
    "    last_index_down += 1\n",
    "    \n",
    "    last_index_up = index+1\n",
    "    while last_index_up < len(df) and df.id_product.iloc[last_index_up] == id_product:\n",
    "        last_index_up += 1\n",
    "    df_product = df.iloc[last_index_down: last_index_up]\n",
    "    return df_product"
   ]
  },
  {
   "cell_type": "code",
   "execution_count": null,
   "id": "b9518634-8859-4f0c-a065-5ebcfcf0f038",
   "metadata": {
    "tags": []
   },
   "outputs": [],
   "source": [
    "def interpolate(l):\n",
    "    return [l[i] if not pd.isna(l[i]) else l[i-1] + l[i+1] for i in range(len(l))]\n",
    "\n",
    "def interpolate_missing_sales(id_product, index):\n",
    "    df_product = get_df_product(id_product, index)\n",
    "    df_product.sort_values(by='order', inplace=True)\n",
    "    series = pd.Series([df_product[f'Month {i}'].iloc[j] for j in range(len(df_product)) for i in range(1, 4)])\n",
    "    if len(series) <= 3:\n",
    "        interpolated_val = (2*list(series)[1] + list(series)[2]) / 3\n",
    "    else:\n",
    "        interpolated_values = list(series.interpolate('polynomial', order=2))\n",
    "        interpolated_val = interpolated_values[-4]\n",
    "    df.loc[df.index == df_product.index[len(df_product)-1], 'Month 1'] = int(interpolated_val)"
   ]
  },
  {
   "cell_type": "code",
   "execution_count": null,
   "id": "19ba9bee-8fc8-4cde-abf4-fab0ad37c422",
   "metadata": {
    "tags": []
   },
   "outputs": [],
   "source": [
    "for i in tqdm(range(len(id_product_missing_values))):\n",
    "    id_product = id_product_missing_values[i]\n",
    "    index_missing = indices_missing_values[i]\n",
    "    interpolate_missing_sales(id_product, index_missing)"
   ]
  },
  {
   "cell_type": "code",
   "execution_count": null,
   "id": "4a4d01dc-319b-4beb-a4a6-88f689be3cb2",
   "metadata": {
    "tags": []
   },
   "outputs": [],
   "source": [
    "df.drop(columns=['order'], inplace=True)"
   ]
  },
  {
   "cell_type": "code",
   "execution_count": null,
   "id": "89c93479-5f80-45c8-a25d-a426582e9c1c",
   "metadata": {
    "tags": []
   },
   "outputs": [],
   "source": [
    "df"
   ]
  },
  {
   "cell_type": "code",
   "execution_count": null,
   "id": "3f3fd6ad-e261-4f76-93b5-ebb074954f90",
   "metadata": {
    "tags": []
   },
   "outputs": [],
   "source": [
    "df.to_csv(\"datasets/train.csv\", index=False)"
   ]
  }
 ],
 "metadata": {
  "kernelspec": {
   "display_name": "Python 3 (ipykernel)",
   "language": "python",
   "name": "python3"
  },
  "language_info": {
   "codemirror_mode": {
    "name": "ipython",
    "version": 3
   },
   "file_extension": ".py",
   "mimetype": "text/x-python",
   "name": "python",
   "nbconvert_exporter": "python",
   "pygments_lexer": "ipython3",
   "version": "3.10.12"
  }
 },
 "nbformat": 4,
 "nbformat_minor": 5
}
