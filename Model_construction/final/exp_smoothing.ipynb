{
 "cells": [
  {
   "cell_type": "code",
   "execution_count": null,
   "id": "86b58013-6657-4892-91d6-85c17341a9ca",
   "metadata": {
    "tags": []
   },
   "outputs": [],
   "source": [
    "import pandas as pd\n",
    "import numpy as np\n",
    "from tqdm import tqdm\n",
    "import matplotlib.pyplot as plt\n",
    "\n",
    "import warnings\n",
    "warnings.filterwarnings(\"ignore\")"
   ]
  },
  {
   "cell_type": "code",
   "execution_count": null,
   "id": "00065ac9-fe4b-4908-af97-173c3b81bbee",
   "metadata": {},
   "outputs": [],
   "source": [
    "df = pd.read_csv(\"datasets/X_test_working.csv\")"
   ]
  },
  {
   "cell_type": "code",
   "execution_count": null,
   "id": "2eb3c422-87ec-44c2-b12b-4a10c2df1c57",
   "metadata": {
    "tags": []
   },
   "outputs": [],
   "source": [
    "df_dates = {'sep-dec 2020': 0,\n",
    "            'jan-apr 2021': 1,\n",
    "            'may-aug 2021': 2,\n",
    "            'sep-dec 2021': 3,\n",
    "            'jan-apr 2022': 4,\n",
    "            'may-aug 2022': 5,\n",
    "            'sep-dec 2022': 6,\n",
    "            'jan-apr 2023': 7,\n",
    "            'may-jul 2023': 8\n",
    "           }\n",
    "df['order'] = df['Date'].apply(lambda date: df_dates[date])"
   ]
  },
  {
   "cell_type": "code",
   "execution_count": null,
   "id": "ce731865-bed9-425f-aad4-37824b72da17",
   "metadata": {
    "tags": []
   },
   "outputs": [],
   "source": [
    "df.sort_values(by=['id_product', 'order'], inplace=True)"
   ]
  },
  {
   "cell_type": "code",
   "execution_count": null,
   "id": "deb5a65d-b8f4-467c-badb-e84bf521bbf2",
   "metadata": {
    "tags": []
   },
   "outputs": [],
   "source": [
    "df['Prev.Month 1'] = [0] * len(df)\n",
    "df['Prev.Month 2'] = [0] * len(df)\n",
    "df['Prev.Month 3'] = [0] * len(df)"
   ]
  },
  {
   "cell_type": "code",
   "execution_count": null,
   "id": "4ff418b8-3d73-4f3f-b46a-342c14ae0dc3",
   "metadata": {
    "tags": []
   },
   "outputs": [],
   "source": [
    "def exp_smoothing_id_product(df, id_product):\n",
    "    df_product = df.loc[df.id_product == id_product]\n",
    "    for i in range(1, len(df_product)):\n",
    "        for j in range(1, 4):\n",
    "            index = df_product.iloc[i].name\n",
    "            df.loc[index, f'Prev.Month {j}'] = (1/2) * df_product.iloc[i-1][f'Month {j}'] + (1/2) * df_product.iloc[i-1][f'Prev.Month {j}']"
   ]
  },
  {
   "cell_type": "code",
   "execution_count": null,
   "id": "84f772b5-9ca3-423a-9dfe-5a92fe4e21a5",
   "metadata": {
    "tags": []
   },
   "outputs": [],
   "source": [
    "id_products = df.id_product.unique()"
   ]
  },
  {
   "cell_type": "code",
   "execution_count": null,
   "id": "ecf36ee9-325b-4ee4-9d22-e2e5ef020713",
   "metadata": {
    "tags": []
   },
   "outputs": [],
   "source": [
    "for i in tqdm(range(len(id_products))):\n",
    "    id_product = id_products[i]\n",
    "    exp_smoothing_id_product(df, id_product)"
   ]
  },
  {
   "cell_type": "code",
   "execution_count": null,
   "id": "f3fd183a-2f3d-419e-a25e-c60064eec09f",
   "metadata": {
    "tags": []
   },
   "outputs": [],
   "source": [
    "df"
   ]
  },
  {
   "cell_type": "code",
   "execution_count": null,
   "id": "83f32009-4d74-41bf-b652-985136102faa",
   "metadata": {
    "tags": []
   },
   "outputs": [],
   "source": [
    "df.drop(columns=['order'], inplace=True)"
   ]
  },
  {
   "cell_type": "code",
   "execution_count": null,
   "id": "bba0c0df-4375-41fd-9931-13425a66148b",
   "metadata": {
    "tags": []
   },
   "outputs": [],
   "source": [
    "df.to_csv(\"datasets/test_prev_months.csv\", index=False)"
   ]
  }
 ],
 "metadata": {
  "kernelspec": {
   "display_name": "Python 3 (ipykernel)",
   "language": "python",
   "name": "python3"
  },
  "language_info": {
   "codemirror_mode": {
    "name": "ipython",
    "version": 3
   },
   "file_extension": ".py",
   "mimetype": "text/x-python",
   "name": "python",
   "nbconvert_exporter": "python",
   "pygments_lexer": "ipython3",
   "version": "3.10.12"
  }
 },
 "nbformat": 4,
 "nbformat_minor": 5
}
