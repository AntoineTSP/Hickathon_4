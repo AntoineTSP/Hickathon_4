{
 "cells": [
  {
   "cell_type": "markdown",
   "id": "6f5f98d3-1fd7-4ea9-a2ee-6337a5275db5",
   "metadata": {},
   "source": [
    "# Transportation CO2 Emission  "
   ]
  },
  {
   "cell_type": "code",
   "execution_count": null,
   "id": "7a35de8c-1b8b-4220-8411-23bf3a142ee7",
   "metadata": {
    "tags": []
   },
   "outputs": [],
   "source": [
    "!pip install geopy"
   ]
  },
  {
   "cell_type": "code",
   "execution_count": null,
   "id": "4d1bdd6e-0ce0-41d5-9d08-007a09793c5c",
   "metadata": {
    "tags": []
   },
   "outputs": [],
   "source": [
    "# Import libraries.\n",
    "# import os\n",
    "# import glob\n",
    "import numpy as np\n",
    "import pandas as pd\n",
    "import seaborn as sns\n",
    "import networkx as nx\n",
    "import matplotlib.pyplot as plt\n",
    "from geopy.distance import geodesic\n",
    "from geopy.geocoders import Nominatim"
   ]
  },
  {
   "cell_type": "markdown",
   "id": "ad23889c-af51-4407-8235-be146ad3c62a",
   "metadata": {},
   "source": [
    "## Import data"
   ]
  },
  {
   "cell_type": "code",
   "execution_count": null,
   "id": "91a63250-bbd1-4097-8efc-2059b56298ef",
   "metadata": {
    "tags": []
   },
   "outputs": [],
   "source": [
    "# Load train data.\n",
    "ROOTPATH_DATA = r\"../datasets\"\n",
    "train_df = pd.read_csv(ROOTPATH_DATA+\"/train.csv\", sep=\",\")"
   ]
  },
  {
   "cell_type": "code",
   "execution_count": null,
   "id": "bffe0a4e-b85d-4b08-b777-868ae22adce9",
   "metadata": {
    "tags": []
   },
   "outputs": [],
   "source": [
    "# Processing.\n",
    "columns_to_clean = ['Month 2', 'Month 3', 'Month 4']\n",
    "train_df[columns_to_clean] = train_df[columns_to_clean].apply(pd.to_numeric, errors='coerce').astype('Int64')\n",
    "\n",
    "train_df['Country'] = train_df['Country'].str.upper()\n",
    "train_df['Site'] = train_df['Site'].str.upper()"
   ]
  },
  {
   "cell_type": "code",
   "execution_count": null,
   "id": "323735ce-adf8-4921-82d8-8416efc5b70f",
   "metadata": {
    "tags": []
   },
   "outputs": [],
   "source": [
    "import pandas as pd\n",
    "\n",
    "# Load country_code data.\n",
    "country_code_df = pd.read_csv(\"../datasets/countries_codes_and_coordinates.csv\", \n",
    "                              usecols=[\"Country\", \"Alpha-2 code\", \"Latitude (average)\", \"Longitude (average)\"])\n",
    "\n",
    "# Clean and process data.\n",
    "country_code_df[\"Alpha-2 code\"] = country_code_df[\"Alpha-2 code\"].str.replace('\"', '').str.strip().astype(str)\n",
    "\n",
    "# Use pd.eval to safely evaluate expressions.\n",
    "country_code_df['Coordinates'] = list(zip(\n",
    "    country_code_df['Latitude (average)'].str.strip().apply(pd.eval).astype(float),\n",
    "    country_code_df['Longitude (average)'].str.strip().apply(pd.eval).astype(float)\n",
    "))\n",
    "\n",
    "# Drop unnecessary columns and rename.\n",
    "country_code_df.drop(columns=[\"Longitude (average)\", \"Latitude (average)\"], inplace=True)\n",
    "country_code_df.rename(columns={\"Alpha-2 code\": \"Code\", \"Country\": \"Name\"}, inplace=True)\n",
    "\n",
    "country_code_df.head()"
   ]
  },
  {
   "cell_type": "code",
   "execution_count": null,
   "id": "78552dd6-00c6-45e3-8701-dd1682f72f45",
   "metadata": {
    "tags": []
   },
   "outputs": [],
   "source": [
    "# Function to extract country code from Site column\n",
    "def extract_country_code(site):\n",
    "    if site.split('_')[0] == 'OOS':\n",
    "        return 'US' # only exceptional case\n",
    "    return site.split('_')[0]\n",
    "\n",
    "# Add a new column 'Site Country' to train_df\n",
    "train_df['Site Country'] = train_df['Site'].apply(extract_country_code)\n",
    "train_df['Country'] = train_df['Country'].str.upper()\n",
    "\n",
    "# Merge train_df with country_code_df to get country names\n",
    "train_df = pd.merge(train_df, country_code_df, left_on='Site Country', right_on='Code', how='left')\n",
    "\n",
    "# Drop unnecessary columns and rename columns\n",
    "train_df = train_df.drop(['Site Country', 'Code'], axis=1)\n",
    "train_df = train_df.rename(columns={'Name': 'Site Country', 'Coordinates': 'Coordinates Site'})\n",
    "\n",
    "# Merge train_df with country_code_df to get country names\n",
    "train_df = pd.merge(train_df, country_code_df, left_on='Country', right_on='Code', how='left')\n",
    "\n",
    "# Drop unnecessary columns and rename columns\n",
    "train_df = train_df.drop(['Country', 'Code'], axis=1)\n",
    "train_df = train_df.rename(columns={'Name': 'Country', 'Coordinates': 'Coordinates Country'})\n",
    "\n",
    "# Display the final DataFrame\n",
    "train_df.head(5)"
   ]
  },
  {
   "cell_type": "code",
   "execution_count": null,
   "id": "1e35c639-e7fb-4493-a008-87619eaa1aae",
   "metadata": {
    "tags": []
   },
   "outputs": [],
   "source": [
    "# print(train_df[\"Country\"].sort_values().unique())\n",
    "# print(train_df[\"Site Country\"].sort_values().unique())\n",
    "train_df = train_df.replace({\"Viet Nam\": \"Vietnam\", \n",
    "                  \"Taiwan, Province of China\": \"Taiwan\"})\n",
    "print(train_df[\"Country\"].sort_values().unique())\n",
    "print(train_df[\"Site Country\"].sort_values().unique())"
   ]
  },
  {
   "cell_type": "code",
   "execution_count": null,
   "id": "768e5c8b-c1d6-4f31-82f2-fd8cb0de46f0",
   "metadata": {
    "tags": []
   },
   "outputs": [],
   "source": [
    "train_df.head(2)"
   ]
  },
  {
   "cell_type": "markdown",
   "id": "6d039d2f-284f-4126-8876-840283bbf2fd",
   "metadata": {
    "tags": []
   },
   "source": [
    "## Compute distance"
   ]
  },
  {
   "cell_type": "code",
   "execution_count": null,
   "id": "6eb0127b-122e-4314-a0ea-306865b4cddb",
   "metadata": {
    "tags": []
   },
   "outputs": [],
   "source": [
    "# # Define geodesic function to get location (coordinates) and compute distance.\n",
    "\n",
    "\n",
    "# # Get location function.\n",
    "# def get_location(country_name, user_agent=\"hi!ckathon\"):\n",
    "#     geolocator = Nominatim(user_agent=user_agent)\n",
    "#     location = geolocator.geocode(country_name)\n",
    "#     return (location.latitude, location.longitude) if location else None\n",
    "\n",
    "\n",
    "# # Compute distance function.\n",
    "# # def compute_distance(row, column1, column2):\n",
    "# #     location1 = row[column1]\n",
    "# #     location2 = row[column2]\n",
    "# #     return geodesic(location1, location2).kilometers"
   ]
  },
  {
   "cell_type": "code",
   "execution_count": null,
   "id": "4c916a5d-b581-4e1d-917f-addd7234593b",
   "metadata": {},
   "outputs": [],
   "source": [
    "# # Compute \"Delivery Distance\".\n",
    "# train_df[\"Destination Coordinates\"] = train_df.apply(\n",
    "#     compute_distance, \"Origin Coordinates\", \"Destination Coordinates\"\n",
    "# )"
   ]
  },
  {
   "cell_type": "code",
   "execution_count": null,
   "id": "f1efb2ed-9393-4b43-9eae-1ef302bcf124",
   "metadata": {},
   "outputs": [],
   "source": [
    "# country_coordinates_df = pd.read_csv(ROOTPATH_DATA+\"/country_coordinates.csv\", index_col=0)"
   ]
  },
  {
   "cell_type": "markdown",
   "id": "f1e7d14a-92e4-4225-aa9d-dc8c6f8b9701",
   "metadata": {},
   "source": [
    "## Plot Transportation Lines Graph"
   ]
  },
  {
   "cell_type": "code",
   "execution_count": null,
   "id": "a279ad62-93fa-4947-bf91-2ccb4c776215",
   "metadata": {
    "tags": []
   },
   "outputs": [],
   "source": [
    "# Aggregate sales data by product, site and country\n",
    "aggregated_df = train_df[projection].groupby(['id_product', 'Site Country', 'Country']).agg({\n",
    "    'Month 1': 'sum',\n",
    "    'Month 2': 'sum',\n",
    "    'Month 3': 'sum'\n",
    "}).reset_index()\n",
    "\n",
    "aggregated_df['Sales'] = aggregated_df[['Month 1', 'Month 2', 'Month 3']].sum(axis=1)\n",
    "\n",
    "# Drop the individual month columns\n",
    "aggregated_df = aggregated_df.drop(['Month 1', 'Month 2', 'Month 3'], axis=1)\n",
    "\n",
    "aggregated_df.head(5)"
   ]
  },
  {
   "cell_type": "code",
   "execution_count": null,
   "id": "652bde40-bc80-4cb6-bbfe-64436f01251d",
   "metadata": {
    "tags": []
   },
   "outputs": [],
   "source": [
    "country_coordinates_df = train_df[[\"Site Country\", \"Country\", \"Coordinates Site\", \"Coordinates Country\"]]\n",
    "country_coordinates_df = coordinates_df.drop_duplicates()\n",
    "print(coordinates_df.shape)\n",
    "coordinates_df.head()"
   ]
  },
  {
   "cell_type": "code",
   "execution_count": null,
   "id": "00a940c9-8ace-48ba-926b-45e15a34cce1",
   "metadata": {
    "tags": []
   },
   "outputs": [],
   "source": [
    "aggregated_df = aggregated_df.rename(columns={'Country':'CountryLeft', 'Site Country':'Site CountryLeft'})\n",
    "aggregated_df.dtypes"
   ]
  },
  {
   "cell_type": "code",
   "execution_count": null,
   "id": "6113c25d-073c-432d-80b8-7d8b6638815d",
   "metadata": {
    "tags": []
   },
   "outputs": [],
   "source": [
    "# Merge the coordinates with the main dataframe based on the 'Country' column\n",
    "aggregated_df = pd.merge(aggregated_df, country_coordinates_df, left_on=['Site CountryLeft', 'CountryLeft'], \n",
    "                         right_on=['Site Country', 'Country'], how='left')"
   ]
  },
  {
   "cell_type": "code",
   "execution_count": null,
   "id": "93fd0876-b1f0-44d9-9730-45d18ee29a08",
   "metadata": {
    "tags": []
   },
   "outputs": [],
   "source": [
    "aggregated_df"
   ]
  },
  {
   "cell_type": "code",
   "execution_count": null,
   "id": "bdec6b14-7523-4e91-aa1e-64a2b4f1f861",
   "metadata": {
    "tags": []
   },
   "outputs": [],
   "source": [
    "# Rename the 'Coordinates' column to 'CoordinatesCou'\n",
    "aggregated_df.drop(columns={'Coordinates': 'CoordinatesCountry'}, inplace=True)\n",
    "\n",
    "\n",
    "aggregated_df.head(5)"
   ]
  },
  {
   "cell_type": "code",
   "execution_count": null,
   "id": "f17757a1-7601-439b-a634-9e1814863c61",
   "metadata": {
    "tags": []
   },
   "outputs": [],
   "source": [
    "# nan_rows = aggregated_df[aggregated_df['Country'].isna()]\n",
    "nan_rows = aggregated_df[aggregated_df['Coordinates Country'] == 'nan']\n",
    "\n",
    "print(nan_rows)\n"
   ]
  },
  {
   "cell_type": "code",
   "execution_count": null,
   "id": "4e13bf8c-e4f8-49f8-a88f-ce9dd6cda1db",
   "metadata": {
    "tags": []
   },
   "outputs": [],
   "source": [
    "# Function to calculate distance using Haversine formula\n",
    "def calculate_distance(row):\n",
    "    return geodesic((row['Coordinates Country']), (row['Coordinates Site'])).kilometers\n",
    "\n",
    "# Apply the function to create a new 'distance' column\n",
    "aggregated_df['distance'] = aggregated_df.apply(calculate_distance, axis=1)\n",
    "aggregated_df.head(5555)"
   ]
  },
  {
   "cell_type": "code",
   "execution_count": null,
   "id": "02938b0e-06c3-4e91-9ef8-3647435be448",
   "metadata": {
    "tags": []
   },
   "outputs": [],
   "source": [
    "# aggregated_df['CoordinatesCountry'] = aggregated_df['CoordinatesCountry'].apply(lambda x: eval(x))\n",
    "# aggregated_df['CoordinatesSiteCountry'] = aggregated_df['CoordinatesSiteCountry'].apply(lambda x: eval(x))\n",
    "\n",
    "# # Function to calculate distance using Haversine formula\n",
    "# def calculate_distance(row):\n",
    "#     return geodesic(row['CoordinatesCountry'], row['CoordinatesSiteCountry']).kilometers\n",
    "\n",
    "# # Apply the function to create a new 'distance' column\n",
    "# aggregated_df['distance'] = aggregated_df.apply(calculate_distance, axis=1)\n",
    "# aggregated_df.head(5)"
   ]
  },
  {
   "cell_type": "code",
   "execution_count": null,
   "id": "c5948c28-4976-4452-b9e7-e58002dc179a",
   "metadata": {
    "tags": []
   },
   "outputs": [],
   "source": [
    "# DON'T UNCOMMENT, this was used to make the file countries_distance\n",
    "\n",
    "# save_df = aggregated_df.copy()\n",
    "\n",
    "# columns_to_drop = ['id_product', 'Sales', 'CoordinatesCountry', 'CoordinatesSiteCountry']\n",
    "\n",
    "# # Drop the specified columns\n",
    "# save_df.drop(columns=columns_to_drop, inplace=True)\n",
    "\n",
    "# columns_to_check_duplicates = ['Site Country', 'Country', 'distance']\n",
    "\n",
    "# # Keep only unique rows based on the specified columns\n",
    "# save_df = save_df.drop_duplicates(subset=columns_to_check_duplicates)\n",
    "\n",
    "# save_df.head(5)\n",
    "# save_df.to_csv('countries_distance.csv', index=False)\n"
   ]
  },
  {
   "cell_type": "code",
   "execution_count": null,
   "id": "10a9fa4d-7f97-4917-986a-4260a0a3a606",
   "metadata": {
    "tags": []
   },
   "outputs": [],
   "source": [
    "# countries = pd.DataFrame(train_df[\"Country\"].sort_values().unique(), columns=[\"Country\"])\n",
    "# countries = countries[~countries[\"Country\"].str.contains(\"Taiwan\")]\n",
    "# countries[\"Coordinates\"] = countries[\"Country\"].apply(get_location)\n",
    "# countries.to_csv(\"../datasets/country_coordinates.csv\")"
   ]
  },
  {
   "cell_type": "markdown",
   "id": "169a2339-44c0-4824-bac5-8ccd4d9c81ef",
   "metadata": {},
   "source": [
    "[ourworldindata](https://ourworldindata.org/grapher/carbon-footprint-travel-mode)\n",
    "[ourworldindata](https://ourworldindata.org/grapher/carbon-footprint-travel-mode)\n",
    "\n",
    "|Transportation Mode| Consumption Emission|\n",
    "|------|-------------|\n",
    "|Plane | 175 gCO2e/km|\n",
    "|Motorbike | 92 gCO2e/km|\n",
    "|Petrol car | 90 gCO2e/km|\n",
    "|Diesel car| 90 gCO2e/km|\n",
    "|Train| 28 gCO2e/km|\n",
    "|Electric car| 29 gCO2e/km|\n",
    "|Coach| 22 gCO2e/km|\n",
    "|Long Haul Truck| 57 gCO2e/km|\n",
    "|Roll-on/Roll-off Ferry| 52 gCO2e/km|"
   ]
  },
  {
   "cell_type": "code",
   "execution_count": null,
   "id": "f09dd818-8823-41b3-84ef-147b5a918bef",
   "metadata": {
    "tags": []
   },
   "outputs": [],
   "source": [
    "# Assuming we make use of Plane, Roll-on/Roll-off Ferry, Long Haul Truck, Train, Petrol Car, \n",
    "# the average consumption emission is 80.4\n",
    "\n",
    "vehicle_co2_emission = 80.4\n",
    "french_co2_emission = 4.46\n",
    "\n",
    "# Assuming you have a DataFrame named aggregated_df\n",
    "aggregated_df['CO2 Emission Ratio French'] = aggregated_df.apply(lambda row: (row['distance'] * vehicle_co2_emission / row['Sales'])/french_co2_emission if row['Sales'] != 0 else (row['distance'] * vehicle_co2_emission)/french_co2_emission, axis=1)\n"
   ]
  },
  {
   "cell_type": "code",
   "execution_count": null,
   "id": "2caf60dc-7519-4e0a-8447-0b803f4a3b57",
   "metadata": {
    "tags": []
   },
   "outputs": [],
   "source": [
    "aggregated_df.head(5)"
   ]
  },
  {
   "cell_type": "code",
   "execution_count": null,
   "id": "39238afc-0134-48ea-8b92-61c7821cc34a",
   "metadata": {
    "tags": []
   },
   "outputs": [],
   "source": [
    "# # Find the minimum distance value\n",
    "# min_distance = aggregated_df['distance'].min()\n",
    "\n",
    "# # Find the value that is immediately greater than the minimum distance value\n",
    "# next_value = aggregated_df.loc[aggregated_df['distance'] > min_distance, 'distance'].min()\n",
    "\n",
    "# # Display the result\n",
    "# print(f'The value that is immediately greater than the minimum distance is: {next_value}')"
   ]
  },
  {
   "cell_type": "code",
   "execution_count": null,
   "id": "9ebf734e-90c4-4546-a725-ce01a365ea96",
   "metadata": {
    "tags": []
   },
   "outputs": [],
   "source": [
    "aggregated_df[aggregated_df[\"distance\"] > 0][\"distance\"].min()"
   ]
  },
  {
   "cell_type": "code",
   "execution_count": null,
   "id": "c08f7010-753a-4501-96b9-c0a231b246bb",
   "metadata": {
    "tags": []
   },
   "outputs": [],
   "source": [
    "# Scatter plot of Sales vs. CO2 Emission\n",
    "plt.scatter(aggregated_df['Sales'], aggregated_df['CO2 Emission Ratio French'])\n",
    "plt.title('Sales vs. CO2 Emission')\n",
    "plt.xlabel('Sales')\n",
    "plt.ylabel('CO2 Emission Ratio French')\n",
    "plt.show()"
   ]
  },
  {
   "cell_type": "code",
   "execution_count": null,
   "id": "9112b8e0-7571-4a66-8206-af44446fbcc1",
   "metadata": {
    "tags": []
   },
   "outputs": [],
   "source": [
    "# Bar chart of Sales by Country\n",
    "sales_by_country = aggregated_df.groupby('Country')['Sales'].sum().sort_values()\n",
    "sales_by_country.plot(kind='bar', color='skyblue')\n",
    "plt.title('Sales by Country')\n",
    "plt.xlabel('Country')\n",
    "plt.ylabel('Total Sales')\n",
    "plt.show()"
   ]
  },
  {
   "cell_type": "code",
   "execution_count": null,
   "id": "e925d28f-96fa-4548-a866-8f1102c106d7",
   "metadata": {
    "tags": []
   },
   "outputs": [],
   "source": [
    "# Bar chart of Sales by Country\n",
    "stocks_by_country = aggregated_df.groupby('Site Country')['Sales'].sum()\n",
    "stocks_by_country.plot(kind='bar', color='skyblue')\n",
    "plt.title('Total Stocks per Country')\n",
    "plt.xlabel('Country')\n",
    "plt.ylabel('Total Stocks in Sites')\n",
    "plt.show()"
   ]
  },
  {
   "cell_type": "code",
   "execution_count": null,
   "id": "89b3c5d6-5ff9-42f7-bc61-a7c17aa9f474",
   "metadata": {
    "tags": []
   },
   "outputs": [],
   "source": [
    "stocks_by_country.head(5)"
   ]
  },
  {
   "cell_type": "code",
   "execution_count": null,
   "id": "d6101bff-77bd-4003-ba10-4f4533e63f41",
   "metadata": {
    "tags": []
   },
   "outputs": [],
   "source": []
  },
  {
   "cell_type": "code",
   "execution_count": null,
   "id": "180f4840-1251-4988-8ea3-3d330ad9788a",
   "metadata": {},
   "outputs": [],
   "source": []
  }
 ],
 "metadata": {
  "kernelspec": {
   "display_name": "Python 3 (ipykernel)",
   "language": "python",
   "name": "python3"
  },
  "language_info": {
   "codemirror_mode": {
    "name": "ipython",
    "version": 3
   },
   "file_extension": ".py",
   "mimetype": "text/x-python",
   "name": "python",
   "nbconvert_exporter": "python",
   "pygments_lexer": "ipython3",
   "version": "3.10.12"
  }
 },
 "nbformat": 4,
 "nbformat_minor": 5
}
