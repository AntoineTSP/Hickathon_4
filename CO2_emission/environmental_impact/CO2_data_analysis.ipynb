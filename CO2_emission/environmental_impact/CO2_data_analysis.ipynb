{
 "cells": [
  {
   "cell_type": "code",
   "execution_count": null,
   "id": "029161b7-e8d8-4024-9e0c-7852415d1cef",
   "metadata": {
    "tags": []
   },
   "outputs": [],
   "source": [
    "import numpy as np\n",
    "import pandas as pd"
   ]
  },
  {
   "cell_type": "code",
   "execution_count": null,
   "id": "56588de6-6ebb-4582-a3d1-c3397c92f093",
   "metadata": {
    "tags": []
   },
   "outputs": [],
   "source": [
    "train_df = pd.read_csv(\"../datasets/train-data.csv\", sep=\";\")"
   ]
  },
  {
   "cell_type": "code",
   "execution_count": null,
   "id": "5ab23dec-2ebe-404a-9aa4-7a88abc88bc3",
   "metadata": {
    "tags": []
   },
   "outputs": [],
   "source": [
    "# remove duplicate rows\n",
    "train_df = train_df.drop_duplicates()\n",
    "train_df.head(5)"
   ]
  },
  {
   "cell_type": "code",
   "execution_count": null,
   "id": "d4e93fe1-a23d-4632-9aff-56c73af711dd",
   "metadata": {
    "tags": []
   },
   "outputs": [],
   "source": [
    "# Site produced -> Country sold\n",
    "unique_sites_count = train_df['Site'].nunique()\n",
    "print(\"Number of unique rows for the 'Site' column:\", unique_sites_count)\n"
   ]
  },
  {
   "cell_type": "markdown",
   "id": "6cd623e4-a714-40df-8ddb-814d0dc0635c",
   "metadata": {},
   "source": [
    "## Graph\n",
    "Nodes represent countries and edges show the number of products sold from a country to another."
   ]
  },
  {
   "cell_type": "code",
   "execution_count": null,
   "id": "a48365c2-5aa6-4211-a5bc-c6533ca1e7a7",
   "metadata": {},
   "outputs": [],
   "source": [
    "# Read the country code mapping from the file\n",
    "country_code_df = pd.read_csv(\"../datasets/country_codes.txt\")\n",
    "\n",
    "# Function to extract country code from Site column\n",
    "def extract_country_code(site):\n",
    "    if site.split('_')[0] == 'OOS':\n",
    "        return 'US' # only exceptional case\n",
    "    return site.split('_')[0]\n",
    "\n",
    "# Add a new column 'Site Country' to train_df\n",
    "train_df['Site Country'] = train_df['Site'].apply(extract_country_code)\n",
    "\n",
    "# Merge train_df with country_code_df to get country names\n",
    "train_df = pd.merge(train_df, country_code_df, left_on='Site Country', right_on='Code', how='left')\n",
    "\n",
    "# Drop unnecessary columns and rename columns\n",
    "train_df = train_df.drop(['Site Country', 'Code'], axis=1)\n",
    "train_df = train_df.rename(columns={'Name': 'Site Country'})\n",
    "\n",
    "# Display the final DataFrame\n",
    "train_df.head(5)"
   ]
  },
  {
   "cell_type": "code",
   "execution_count": null,
   "id": "2ccabb45-3ed6-4960-a804-126f880fc626",
   "metadata": {},
   "outputs": [],
   "source": [
    "# Merge train_df with country_code_df to map country codes to country names\n",
    "train_df['Country'] = train_df['Country'].str.upper()\n",
    "train_df = pd.merge(train_df, country_code_df, left_on='Country', right_on='Code', how='left')\n",
    "\n",
    "# Fill NaN values in the 'Name' column (corresponding to missing country codes) with the original country codes\n",
    "train_df['Name'].fillna(train_df['Country'], inplace=True)\n",
    "\n",
    "# Drop unnecessary columns and rename columns\n",
    "train_df = train_df.drop(['Country', 'Code'], axis=1)\n",
    "train_df = train_df.rename(columns={'Name': 'Country'})\n",
    "\n",
    "train_df.head(5)\n"
   ]
  },
  {
   "cell_type": "code",
   "execution_count": null,
   "id": "4680d5a8-dc2b-4249-8398-eef8302fb249",
   "metadata": {
    "tags": []
   },
   "outputs": [],
   "source": [
    "train_df['Month 1'] = pd.to_numeric(train_df['Month 1'], errors='coerce').astype('Int64')\n",
    "train_df['Month 2'] = pd.to_numeric(train_df['Month 2'], errors='coerce').astype('Int64')\n",
    "train_df['Month 3'] = pd.to_numeric(train_df['Month 3'], errors='coerce').astype('Int64')\n",
    "\n",
    "train_df['Site Country'] = train_df['Site Country'].astype(str)\n",
    "train_df['Country'] = train_df['Country'].astype(str)\n",
    "\n",
    "train_df.dtypes"
   ]
  },
  {
   "cell_type": "code",
   "execution_count": null,
   "id": "97a1c880-55b1-4ba5-85ee-c29afe6b8b95",
   "metadata": {
    "tags": []
   },
   "outputs": [],
   "source": [
    "import pandas as pd\n",
    "import networkx as nx\n",
    "import matplotlib.pyplot as plt\n",
    "\n",
    "# Aggregate sales data by country\n",
    "aggregated_df = train_df.groupby(['Site Country', 'Country']).agg({\n",
    "    'Month 1': 'sum',\n",
    "    'Month 2': 'sum',\n",
    "    'Month 3': 'sum'\n",
    "}).reset_index()\n",
    "\n",
    "aggregated_df['Sales'] = aggregated_df[['Month 1', 'Month 2', 'Month 3']].sum(axis=1)\n",
    "\n",
    "# Drop the individual month columns\n",
    "aggregated_df = aggregated_df.drop(['Month 1', 'Month 2', 'Month 3'], axis=1)\n",
    "\n",
    "# Filter out rows with the sum of Month 1,2,3 less than or equal to 100\n",
    "aggregated_df = aggregated_df[aggregated_df['Sales'] > 100]\n",
    "\n",
    "\n",
    "# Filter out rows where 'Site Country' and 'Country' have the same name\n",
    "aggregated_df = aggregated_df[aggregated_df['Site Country'] != aggregated_df['Country']]\n",
    "\n",
    "\n",
    "# Assuming 'aggregated_df' is your DataFrame\n",
    "top_10_sales = aggregated_df.nlargest(10, 'Sales')\n",
    "\n",
    "# Display the top 10 rows with the highest sales\n",
    "print(top_10_sales)"
   ]
  },
  {
   "cell_type": "code",
   "execution_count": null,
   "id": "68147617-e05c-4813-912c-c1eae14515fb",
   "metadata": {
    "tags": []
   },
   "outputs": [],
   "source": [
    "# Create a directed graph\n",
    "G = nx.DiGraph()\n",
    "\n",
    "# Add nodes and edges with weights\n",
    "for _, row in aggregated_df.iterrows():\n",
    "    site_country = row['Site Country']\n",
    "    country = row['Country']\n",
    "    total_sales = row['Sales']\n",
    "    \n",
    "    if site_country not in G.nodes:\n",
    "        G.add_node(site_country, bipartite=0)\n",
    "    if country not in G.nodes:\n",
    "        G.add_node(country, bipartite=1)\n",
    "    \n",
    "    G.add_edge(site_country, country, weight=total_sales)\n",
    "\n",
    "\n",
    "plt.figure(figsize=(25, 15))\n",
    "\n",
    "# pos = nx.circular_layout(G)\n",
    "pos = nx.shell_layout(G)\n",
    "\n",
    "# Draw nodes and edges\n",
    "nx.draw(G, pos, with_labels=True, font_weight='bold')\n",
    "\n",
    "# Draw edge labels\n",
    "edge_labels = nx.get_edge_attributes(G, 'weight')\n",
    "nx.draw_networkx_edge_labels(G, pos, edge_labels=edge_labels)\n",
    "\n",
    "# Show the plot\n",
    "plt.show()\n"
   ]
  },
  {
   "cell_type": "code",
   "execution_count": null,
   "id": "75f6ee1d-1638-4abd-a135-5e41597c0e6a",
   "metadata": {
    "tags": []
   },
   "outputs": [],
   "source": [
    "# Extract year and month information\n",
    "train_df['Year'] = train_df['Date'].str.extract(r'(\\d{4})')\n",
    "train_df['Month'] = train_df['Date'].str.extract(r'([a-zA-Z]+)')\n",
    "\n",
    "# Create a mapping of month names to numerical values\n",
    "month_mapping = {'jan': 1, 'feb': 2, 'mar': 3, 'apr': 4, 'may': 5, 'jun': 6,\n",
    "                 'jul': 7, 'aug': 8, 'sep': 9, 'oct': 10, 'nov': 11, 'dec': 12}\n",
    "\n",
    "# Map month names to numerical values\n",
    "train_df['Month'] = train_df['Month'].str.lower().map(month_mapping)\n",
    "\n",
    "# Group by 'id_product' and sort each group by year and month\n",
    "sorted_df = train_df.sort_values(['id_product', 'Year', 'Month']).groupby('id_product')\n",
    "sorted_df.head(5)\n",
    "\n",
    "Create a new column to store the sequence of 'Site Country' values\n",
    "train_df['Site_Country_Sequence'] = sorted_df['Site Country'].transform(lambda x: '; '.join(x))\n",
    "\n",
    "# Drop temporary columns 'Year' and 'Month'\n",
    "train_df = train_df.drop(['Year', 'Month'], axis=1)\n"
   ]
  },
  {
   "cell_type": "code",
   "execution_count": null,
   "id": "89ef65eb-c86c-48d1-9e47-00e585b0fb02",
   "metadata": {
    "tags": []
   },
   "outputs": [],
   "source": [
    "# Set the display option to show full content of columns\n",
    "pd.set_option('display.max_colwidth', None)\n",
    "\n",
    "# Display the DataFrame\n",
    "print(train_df.head(2))\n",
    "\n",
    "# Reset the display option to its default value (optional)\n",
    "pd.reset_option('display.max_colwidth')"
   ]
  },
  {
   "cell_type": "code",
   "execution_count": null,
   "id": "3e0eec3c-d0f3-4e82-808c-6ab046336c78",
   "metadata": {
    "tags": []
   },
   "outputs": [],
   "source": [
    "# Count the number of unique countries in each row\n",
    "train_df['Unique_Country_Count'] = train_df['Site_Country_Sequence'].apply(lambda x: len(set(x.split('; '))))\n",
    "\n",
    "# Filter rows where there are more than 1 unique country\n",
    "rows_with_multiple_countries = train_df[train_df['Unique_Country_Count'] > 1]\n",
    "\n",
    "# Display the rows\n",
    "print(rows_with_multiple_countries)\n",
    "\n",
    "# Drop the temporary column\n",
    "train_df = train_df.drop(['Unique_Country_Count'], axis=1)"
   ]
  },
  {
   "cell_type": "markdown",
   "id": "8e67306c-9094-4e79-bb6a-e25c39e39940",
   "metadata": {},
   "source": [
    "There are no products for which their Site Count has changed throughout the dataset."
   ]
  }
 ],
 "metadata": {
  "kernelspec": {
   "display_name": "Python 3 (ipykernel)",
   "language": "python",
   "name": "python3"
  },
  "language_info": {
   "codemirror_mode": {
    "name": "ipython",
    "version": 3
   },
   "file_extension": ".py",
   "mimetype": "text/x-python",
   "name": "python",
   "nbconvert_exporter": "python",
   "pygments_lexer": "ipython3",
   "version": "3.10.12"
  }
 },
 "nbformat": 4,
 "nbformat_minor": 5
}
