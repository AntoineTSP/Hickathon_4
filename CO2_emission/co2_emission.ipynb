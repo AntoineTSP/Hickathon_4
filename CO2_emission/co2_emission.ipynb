{
 "cells": [
  {
   "cell_type": "markdown",
   "id": "8d842614-b5c9-4926-af4b-b8ab3846924c",
   "metadata": {},
   "source": [
    "## Measuring environmental impact"
   ]
  },
  {
   "cell_type": "code",
   "execution_count": null,
   "id": "66a9a343-4861-4562-8ab8-21ee66ad38a8",
   "metadata": {
    "tags": []
   },
   "outputs": [],
   "source": [
    "!pip install geopy"
   ]
  },
  {
   "cell_type": "code",
   "execution_count": null,
   "id": "f1d72d67-0366-4d1c-86f6-47a67193f08e",
   "metadata": {
    "tags": []
   },
   "outputs": [],
   "source": [
    "# Import libraries.\n",
    "import os\n",
    "import glob\n",
    "import numpy as np\n",
    "import pandas as pd\n",
    "import seaborn as sns\n",
    "import matplotlib.pyplot as plt\n",
    "from geopy.distance import geodesic\n",
    "from geopy.geocoders import Nominatim"
   ]
  },
  {
   "cell_type": "code",
   "execution_count": null,
   "id": "0064b25e-3bce-4bc9-8105-4a7747b04857",
   "metadata": {
    "tags": []
   },
   "outputs": [],
   "source": [
    "ROOTPATH_DATA = r\"../datasets\"\n",
    "main_df = pd.read_csv(ROOTPATH_DATA+\"/train-data.csv\", sep=\";\", )"
   ]
  },
  {
   "cell_type": "code",
   "execution_count": null,
   "id": "a262885a-c0f9-45ff-93eb-8eabdfd6189d",
   "metadata": {
    "tags": []
   },
   "outputs": [],
   "source": [
    "print(main_df.shape)\n",
    "main_df.head(3)"
   ]
  },
  {
   "cell_type": "code",
   "execution_count": null,
   "id": "184e6992-e46f-4c91-92b8-432c6d633080",
   "metadata": {
    "tags": []
   },
   "outputs": [],
   "source": [
    "csv_files = glob.glob(fr\"{ROOTPATH_DATA}/extra-dataset/*.csv\")\n",
    "dfs = {\n",
    "    os.path.splitext(\n",
    "        os.path.basename(csv_file))[0]: pd.read_csv(csv_file, sep=\",\")\n",
    "    for csv_file in csv_files\n",
    "}\n",
    "gscpi_df, wbeco_df, lpi_df, wbinfla_df = dfs.values()"
   ]
  },
  {
   "cell_type": "code",
   "execution_count": null,
   "id": "e134c103-e809-48e5-9751-3a5949cf095e",
   "metadata": {
    "tags": []
   },
   "outputs": [],
   "source": [
    "print(wbeco_df.shape)\n",
    "wbeco_df.head(2)"
   ]
  },
  {
   "cell_type": "code",
   "execution_count": null,
   "id": "cd34d957-c1b1-49d0-b84d-7141af08bd68",
   "metadata": {
    "tags": []
   },
   "outputs": [],
   "source": [
    "print(lpi_df.shape)\n",
    "lpi_df.head(2)"
   ]
  },
  {
   "cell_type": "code",
   "execution_count": null,
   "id": "37062bb2-5520-4578-8f3d-301dee32cb70",
   "metadata": {
    "tags": []
   },
   "outputs": [],
   "source": [
    "wbinfla_df.head(2)"
   ]
  },
  {
   "cell_type": "code",
   "execution_count": null,
   "id": "1f37f2b3-f4f9-4a3a-a45b-f635f2221098",
   "metadata": {
    "tags": []
   },
   "outputs": [],
   "source": [
    "def get_location(country_name):\n",
    "    geolocator = Nominatim(user_agent=\"hickathon\")\n",
    "    location = geolocator.geocode(country_name)\n",
    "    return (location.latitude, location.longitude) if location else None\n",
    "\n",
    "\n",
    "test_df = pd.DataFrame(wbinfla_df[\"Country\"].unique()[:5], columns=[\"Country\"])\n",
    "# Apply function to create new columns\n",
    "test_df[\"Coordinates\"] = test_df[\"Country\"].apply(get_location)\n",
    "# Sort the copied column in descending order\n",
    "series = test_df[\"Coordinates\"].sort_index(ascending=False).reset_index()\n",
    "test_df[\"Coordinates2\"] = series[\"Coordinates\"]"
   ]
  },
  {
   "cell_type": "code",
   "execution_count": null,
   "id": "6d124daa-a5dc-4abe-bae8-1b0944dc82c8",
   "metadata": {
    "tags": []
   },
   "outputs": [],
   "source": [
    "test_df[\"Coordinates2\"]"
   ]
  },
  {
   "cell_type": "code",
   "execution_count": null,
   "id": "0d76cebf-f301-430b-95a6-61a7bb42fed0",
   "metadata": {
    "tags": []
   },
   "outputs": [],
   "source": [
    "def compute_distance(row):\n",
    "    location1 = row[\"Coordinates\"]\n",
    "    location2 = row[\"Coordinates2\"]\n",
    "    return geodesic(location1, location2).kilometers\n",
    "\n",
    "# # Drop rows with missing coordinates\n",
    "# test_df = test_df.dropna(subset=[\"Coordinates\"])\n",
    "\n",
    "# Compute distance using vectorized operation\n",
    "test_df[\"Distance\"] = test_df.apply(compute_distance, axis=1)\n",
    "\n",
    "test_df"
   ]
  },
  {
   "cell_type": "markdown",
   "id": "9dd7459b-b401-4104-bcf5-46b8ad316a22",
   "metadata": {},
   "source": [
    "## Supply chain data"
   ]
  },
  {
   "cell_type": "code",
   "execution_count": null,
   "id": "e1f0e35d-035f-47f1-9da4-39affc3856d5",
   "metadata": {
    "tags": []
   },
   "outputs": [],
   "source": [
    "# print(main_df.columns)\n",
    "# main_df[\"id_product\"].unique().shape\n",
    "main_df2 = main_df.drop_duplicates()"
   ]
  },
  {
   "cell_type": "code",
   "execution_count": null,
   "id": "9132aa1c-83b9-49c8-9528-2ad9a0ced41d",
   "metadata": {
    "tags": []
   },
   "outputs": [],
   "source": [
    "print(main_df2.shape)"
   ]
  },
  {
   "cell_type": "code",
   "execution_count": null,
   "id": "4937bbde-0599-4eef-92bd-48b59a4b7a26",
   "metadata": {
    "tags": []
   },
   "outputs": [],
   "source": [
    "country_code_df = pd.read_csv(\"../datasets/country_codes.txt\")\n",
    "\n",
    "# Task 1: Create a \"Site Code\" column in main_df2\n",
    "main_df2['Site Code'] = main_df2.loc[:, 'Site'].str[:2]\n",
    "\n",
    "# Task 2: Merge main_df2 and country_code_df based on \"Code\" and \n",
    "# \"Site Code\", and rename the \"Name\" column\n",
    "merged_df = pd.merge(main_df2, country_code_df, left_on='Site Code',\n",
    "                     right_on='Code', how='left')\n",
    "merged_df.drop(columns=[\"Code\", \"Site Code\"], inplace=True)\n",
    "merged_df.rename(columns={'Name': 'Site Country'}, inplace=True)\n",
    "\n",
    "merged_df = pd.merge(merged_df, country_code_df, left_on='Country',\n",
    "                     right_on='Code', how='left')\n",
    "merged_df.drop(columns=[\"Code\", \"Country\"], inplace=True)\n",
    "merged_df.rename(columns={'Name': 'Country'}, inplace=True)"
   ]
  },
  {
   "cell_type": "code",
   "execution_count": null,
   "id": "d6003c51-917c-4f7f-9c7e-f01036cda756",
   "metadata": {
    "tags": []
   },
   "outputs": [],
   "source": [
    "# main_df2 = merged_df.copy()\n",
    "# main_df2"
   ]
  },
  {
   "cell_type": "code",
   "execution_count": null,
   "id": "5faa641d-2dd2-4c5c-9fd2-17414644448f",
   "metadata": {
    "tags": []
   },
   "outputs": [],
   "source": [
    "train_df = pd.read_csv(ROOTPATH_DATA+\"/train.csv\", sep=\",\")"
   ]
  },
  {
   "cell_type": "code",
   "execution_count": null,
   "id": "55f57cbb-a411-4407-9485-2479ecbacb38",
   "metadata": {
    "tags": []
   },
   "outputs": [],
   "source": [
    "# train_df[\"Country\"].value_counts().plot(kind=\"bar\")"
   ]
  },
  {
   "cell_type": "code",
   "execution_count": null,
   "id": "470d1894-c4f9-4d54-bc91-5d2afe7cc187",
   "metadata": {
    "tags": []
   },
   "outputs": [],
   "source": [
    "# train_df[\"Customer Persona proxy\"].value_counts()"
   ]
  },
  {
   "cell_type": "code",
   "execution_count": null,
   "id": "3f0ef3b7-2f45-4f72-a7fa-b9ec58dab27d",
   "metadata": {
    "tags": []
   },
   "outputs": [],
   "source": [
    "# train_df[\"Product  Line proxy\"].value_counts().plot(kind=\"bar\")"
   ]
  },
  {
   "cell_type": "code",
   "execution_count": null,
   "id": "475a1e2a-4c1d-4b39-babe-b8b877039712",
   "metadata": {
    "tags": []
   },
   "outputs": [],
   "source": [
    "train_df[\"Country\"].isna().sum()"
   ]
  },
  {
   "cell_type": "code",
   "execution_count": null,
   "id": "a51fdb40-5668-466d-afae-abdd99efecd0",
   "metadata": {
    "tags": []
   },
   "outputs": [],
   "source": [
    "mask_singapore = main_df2[\"Site Code\"] == \"SG\"\n",
    "main_df2[mask_singapore][\"Country\"].value_counts()"
   ]
  },
  {
   "cell_type": "markdown",
   "id": "b3728d1b-9383-4c70-8fe0-fc7e88a0fbdf",
   "metadata": {},
   "source": [
    "## Global Supply Chain Pressure Index"
   ]
  },
  {
   "cell_type": "code",
   "execution_count": null,
   "id": "2c34d4c7-7242-4bda-bafe-b389fb10904a",
   "metadata": {
    "tags": []
   },
   "outputs": [],
   "source": [
    "gscpi_df['Year-Month'] = pd.to_datetime(gscpi_df['Year-Month'])\n",
    "\n",
    "print(\"GSCPI shape:\", gscpi_df.shape)\n",
    "\n",
    "print(f\"Missing values\\n{gscpi_df.isna().sum()}\")\n",
    "\n",
    "print(gscpi_df.info())"
   ]
  },
  {
   "cell_type": "code",
   "execution_count": null,
   "id": "d72714a1-a85a-4476-96ae-bd2c63925559",
   "metadata": {
    "tags": []
   },
   "outputs": [],
   "source": [
    "# Generate a list of dates from September 2020 to the most recent period with a step of 4 months\n",
    "date_list = pd.date_range(start='2020-09', end=gscpi_df['Year-Month'].max(), freq='4MS')\n",
    "\n",
    "# Plotting\n",
    "plt.plot(gscpi_df['Year-Month'], gscpi_df['GSCPI'], marker='o', label='GSCPI')\n",
    "\n",
    "# Add vertical lines at each date in the list\n",
    "for date in date_list:\n",
    "    plt.axvline(date, color='r', linestyle='--', linewidth=0.8)\n",
    "\n",
    "# Formatting\n",
    "plt.xlabel('Time')\n",
    "plt.ylabel('GSCPI')\n",
    "plt.title('GSCPI')\n",
    "plt.legend()\n",
    "plt.xticks(rotation=45)\n",
    "plt.tight_layout()\n",
    "plt.show()"
   ]
  },
  {
   "cell_type": "markdown",
   "id": "f2b341c2-2cf2-42ee-bac6-ba9aa60c87b9",
   "metadata": {},
   "source": [
    "## World-Bank economics data"
   ]
  },
  {
   "cell_type": "code",
   "execution_count": null,
   "id": "9e005835-86c2-4bd9-b227-7acaae37968b",
   "metadata": {
    "tags": []
   },
   "outputs": [],
   "source": [
    "print(\"WBEco data shape:\", wbeco_df.shape)\n",
    "print()\n",
    "print(f\"Missing values count\\n{wbeco_df.isna().sum()}\")"
   ]
  },
  {
   "cell_type": "code",
   "execution_count": null,
   "id": "4663ac1c-eb36-4d62-b3f2-7394385d6660",
   "metadata": {
    "tags": []
   },
   "outputs": [],
   "source": [
    "# Filter rows for the \"World\" country\n",
    "world_df = wbeco_df[wbeco_df['Country'] == 'World']\n",
    "\n",
    "# Filter columns with names containing 'growth'\n",
    "growth_columns = world_df.filter(like='growth')\n",
    "\n",
    "# Calculate the average growth rate for each year for each indicator\n",
    "avg_growth_by_year = world_df.groupby('Year')[growth_columns.columns].mean().reset_index()\n",
    "\n",
    "# Melt the DataFrame to have a single column for the indicator\n",
    "avg_growth_melted = pd.melt(avg_growth_by_year, id_vars='Year', var_name='Indicator', value_name='Average Growth Rate')\n",
    "\n",
    "# Plot a grouped bar chart\n",
    "plt.figure(figsize=(12, 8))\n",
    "sns.barplot(x='Year', y='Average Growth Rate', hue='Indicator', data=avg_growth_melted)\n",
    "plt.title('Average Growth Rate Over Time for World')\n",
    "plt.xlabel('Year')\n",
    "plt.ylabel('Average Growth Rate')\n",
    "plt.legend(title='Indicator', loc='upper right')\n",
    "plt.show()"
   ]
  },
  {
   "cell_type": "markdown",
   "id": "fb776d14-be1e-45fb-b8ae-b3c8ac4dbc6b",
   "metadata": {},
   "source": [
    "## World Inflation"
   ]
  },
  {
   "cell_type": "code",
   "execution_count": null,
   "id": "5387b9bd-689b-481e-82ca-7e506601cd80",
   "metadata": {
    "tags": []
   },
   "outputs": [],
   "source": [
    "# Convert 'Year-Month' to datetime if it's not already\n",
    "wbinfla_df['Year-Month'] = pd.to_datetime(wbinfla_df['Year-Month'])\n",
    "\n",
    "# Group by 'Year-Month' and compute the average of 'Energy Price Index' and 'Headline Consumer Price Index'\n",
    "grouped_df = wbinfla_df.groupby('Year-Month').agg({\n",
    "    'Energy Price Index': 'mean',\n",
    "    'Headline Consumer Price Index': 'mean'\n",
    "}).reset_index()\n",
    "\n",
    "# Plotting\n",
    "plt.figure(figsize=(10, 6))\n",
    "\n",
    "plt.plot(grouped_df['Year-Month'], grouped_df['Energy Price Index'], label='Energy Price Index', marker='o')\n",
    "plt.plot(grouped_df['Year-Month'], grouped_df['Headline Consumer Price Index'], label='Headline Consumer Price Index', marker='o')\n",
    "\n",
    "plt.title('Average Energy Price Index and Headline Consumer Price Index over Year-Month')\n",
    "plt.xlabel('Year-Month')\n",
    "plt.ylabel('Index')\n",
    "plt.xticks(rotation=45)\n",
    "plt.legend()\n",
    "plt.grid(True)\n",
    "plt.tight_layout()\n",
    "\n",
    "# Show the plot\n",
    "plt.show()"
   ]
  }
 ],
 "metadata": {
  "kernelspec": {
   "display_name": "Python 3 (ipykernel)",
   "language": "python",
   "name": "python3"
  },
  "language_info": {
   "codemirror_mode": {
    "name": "ipython",
    "version": 3
   },
   "file_extension": ".py",
   "mimetype": "text/x-python",
   "name": "python",
   "nbconvert_exporter": "python",
   "pygments_lexer": "ipython3",
   "version": "3.10.12"
  }
 },
 "nbformat": 4,
 "nbformat_minor": 5
}
