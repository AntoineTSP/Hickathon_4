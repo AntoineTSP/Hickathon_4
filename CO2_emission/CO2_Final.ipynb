{
 "cells": [
  {
   "cell_type": "markdown",
   "id": "6f5f98d3-1fd7-4ea9-a2ee-6337a5275db5",
   "metadata": {},
   "source": [
    "# Transportation CO2 Emission  "
   ]
  },
  {
   "cell_type": "code",
   "execution_count": null,
   "id": "7a35de8c-1b8b-4220-8411-23bf3a142ee7",
   "metadata": {
    "tags": []
   },
   "outputs": [],
   "source": [
    "!pip install geopy"
   ]
  },
  {
   "cell_type": "code",
   "execution_count": null,
   "id": "4d1bdd6e-0ce0-41d5-9d08-007a09793c5c",
   "metadata": {
    "tags": []
   },
   "outputs": [],
   "source": [
    "# Import libraries.\n",
    "# import os\n",
    "# import glob\n",
    "import numpy as np\n",
    "import pandas as pd\n",
    "import seaborn as sns\n",
    "import networkx as nx\n",
    "import matplotlib.pyplot as plt\n",
    "from geopy.distance import geodesic\n",
    "from geopy.geocoders import Nominatim"
   ]
  },
  {
   "cell_type": "markdown",
   "id": "ad23889c-af51-4407-8235-be146ad3c62a",
   "metadata": {},
   "source": [
    "## Import data"
   ]
  },
  {
   "cell_type": "code",
   "execution_count": null,
   "id": "91a63250-bbd1-4097-8efc-2059b56298ef",
   "metadata": {
    "tags": []
   },
   "outputs": [],
   "source": [
    "# Load train data.\n",
    "ROOTPATH_DATA = r\"../datasets\"\n",
    "train_df = pd.read_csv(ROOTPATH_DATA+\"/train.csv\", sep=\",\")"
   ]
  },
  {
   "cell_type": "code",
   "execution_count": null,
   "id": "bffe0a4e-b85d-4b08-b777-868ae22adce9",
   "metadata": {
    "tags": []
   },
   "outputs": [],
   "source": [
    "# Processing.\n",
    "columns_to_clean = ['Month 2', 'Month 3', 'Month 4']\n",
    "train_df[columns_to_clean] = (\n",
    "    train_df[columns_to_clean]\n",
    "    .apply(pd.to_numeric, errors='coerce')\n",
    "    .astype('Int64')\n",
    ")\n",
    "\n",
    "train_df['Country'] = train_df['Country'].str.upper()\n",
    "train_df['Site'] = train_df['Site'].str.upper()"
   ]
  },
  {
   "cell_type": "code",
   "execution_count": null,
   "id": "323735ce-adf8-4921-82d8-8416efc5b70f",
   "metadata": {
    "tags": []
   },
   "outputs": [],
   "source": [
    "# Load country_code data.\n",
    "country_code_df = pd.read_csv(\n",
    "    \"../datasets/countries_codes_and_coordinates.csv\",\n",
    "    usecols=[\"Country\",\n",
    "             \"Alpha-2 code\",\n",
    "             \"Latitude (average)\",\n",
    "             \"Longitude (average)\"]\n",
    ")\n",
    "\n",
    "# Clean and process data.\n",
    "country_code_df[\"Alpha-2 code\"] = (\n",
    "    country_code_df[\"Alpha-2 code\"]\n",
    "    .str.replace('\"', '')\n",
    "    .str.strip()\n",
    "    .astype(str)\n",
    ")\n",
    "\n",
    "# Use pd.eval to safely evaluate expressions.\n",
    "country_code_df['Coordinates'] = list(zip(\n",
    "    country_code_df['Latitude (average)'].str.strip().apply(lambda x: eval(x)).astype(float),\n",
    "    country_code_df['Longitude (average)'].str.strip().apply(lambda x: eval(x)).astype(float)\n",
    "))\n",
    "\n",
    "# Drop unnecessary columns and rename.\n",
    "country_code_df.drop(\n",
    "    columns=[\"Longitude (average)\", \"Latitude (average)\"], inplace=True\n",
    ")\n",
    "country_code_df.rename(columns={\"Alpha-2 code\": \"Code\", \"Country\": \"Name\"}, \n",
    "                       inplace=True)\n",
    "\n",
    "country_code_df.head()\n"
   ]
  },
  {
   "cell_type": "code",
   "execution_count": null,
   "id": "78552dd6-00c6-45e3-8701-dd1682f72f45",
   "metadata": {
    "tags": []
   },
   "outputs": [],
   "source": [
    "def extract_country_code(site):\n",
    "    return 'US' if site.startswith('OOS') else site.split('_')[0]\n",
    "\n",
    "\n",
    "# Add a new column 'Site Country' to train_df\n",
    "train_df['Site Country'] = train_df['Site'].apply(extract_country_code)\n",
    "\n",
    "# Apply str.upper() to entire columns\n",
    "train_df['Country'] = train_df['Country'].str.upper()\n",
    "train_df['Site Country'] = train_df['Site Country'].str.upper()\n",
    "\n",
    "# Merge train_df with country_code_df to get country names\n",
    "merged_df = pd.merge(train_df, country_code_df, left_on='Site Country', right_on='Code', how='left')\n",
    "\n",
    "# Drop unnecessary columns and rename columns\n",
    "merged_df.drop(['Site Country', 'Code'], axis=1, inplace=True)\n",
    "merged_df.rename(columns={'Name': 'Site Country', 'Coordinates': 'Coordinates Site'}, inplace=True)\n",
    "\n",
    "# Merge train_df with country_code_df to get country names\n",
    "merged_df = pd.merge(merged_df, country_code_df, left_on='Country', right_on='Code', how='left')\n",
    "\n",
    "# Drop unnecessary columns and rename columns\n",
    "merged_df.drop(['Country', 'Code'], axis=1, inplace=True)\n",
    "merged_df.rename(columns={'Name': 'Country', 'Coordinates': 'Coordinates Country'}, inplace=True)\n",
    "\n",
    "# Display the final DataFrame\n",
    "merged_df.head(5)\n"
   ]
  },
  {
   "cell_type": "code",
   "execution_count": null,
   "id": "1e35c639-e7fb-4493-a008-87619eaa1aae",
   "metadata": {
    "tags": []
   },
   "outputs": [],
   "source": [
    "train_df = merged_df.copy()\n",
    "\n",
    "# Use a single replace call with a dictionary\n",
    "country_name_mapping = {\"Viet Nam\": \"Vietnam\", \"Taiwan, Province of China\": \"Taiwan\"}\n",
    "train_df.replace({\"Country\": country_name_mapping, \"Site Country\": country_name_mapping}, inplace=True)\n",
    "\n",
    "# Print sorted unique values in one step\n",
    "print(sorted(train_df[\"Country\"].unique()))\n",
    "print(sorted(train_df[\"Site Country\"].unique()))"
   ]
  },
  {
   "cell_type": "code",
   "execution_count": null,
   "id": "768e5c8b-c1d6-4f31-82f2-fd8cb0de46f0",
   "metadata": {
    "tags": []
   },
   "outputs": [],
   "source": [
    "train_df.head(2)"
   ]
  },
  {
   "cell_type": "markdown",
   "id": "6d039d2f-284f-4126-8876-840283bbf2fd",
   "metadata": {
    "tags": []
   },
   "source": [
    "## Compute distance and estimtates CO2 emissions"
   ]
  },
  {
   "cell_type": "markdown",
   "id": "f1e7d14a-92e4-4225-aa9d-dc8c6f8b9701",
   "metadata": {},
   "source": [
    "## Plot Transportation Lines Graph"
   ]
  },
  {
   "cell_type": "code",
   "execution_count": null,
   "id": "a279ad62-93fa-4947-bf91-2ccb4c776215",
   "metadata": {
    "tags": []
   },
   "outputs": [],
   "source": [
    "# Aggregate sales data by product, site and country\n",
    "aggregated_df = train_df.groupby(['id_product', 'Site Country', 'Country']).agg({\n",
    "    'Month 1': 'sum',\n",
    "    'Month 2': 'sum',\n",
    "    'Month 3': 'sum'\n",
    "}).reset_index()\n",
    "\n",
    "aggregated_df['Sales'] = aggregated_df[['Month 1', 'Month 2', 'Month 3']].sum(axis=1)\n",
    "\n",
    "# Drop the individual month columns\n",
    "aggregated_df = aggregated_df.drop(['Month 1', 'Month 2', 'Month 3'], axis=1)\n",
    "\n",
    "# DON'T COMMENT BELOW FILTER if you want to remove products that have Site Country equal to Country sold\n",
    "# aggregated_df = aggregated_df[aggregated_df['Site Country'] != aggregated_df['Country']]\n",
    "\n",
    "# DON'T COMMENT BELOW FILTER if you want to remove products that have Site Country equal to Country sold\n",
    "# aggregated_df = aggregated_df[aggregated_df['Site Country'] == aggregated_df['Country']]\n",
    "\n",
    "aggregated_df.head(5)"
   ]
  },
  {
   "cell_type": "code",
   "execution_count": null,
   "id": "652bde40-bc80-4cb6-bbfe-64436f01251d",
   "metadata": {
    "tags": []
   },
   "outputs": [],
   "source": [
    "cols = [\n",
    "    \"Site Country\",\n",
    "    \"Country\",\n",
    "    \"Coordinates Site\",\n",
    "    \"Coordinates Country\"\n",
    "]\n",
    "country_coordinates_df = train_df[cols]\n",
    "country_coordinates_df = country_coordinates_df.drop_duplicates()\n",
    "print(country_coordinates_df.shape)\n",
    "country_coordinates_df.head()"
   ]
  },
  {
   "cell_type": "code",
   "execution_count": null,
   "id": "00a940c9-8ace-48ba-926b-45e15a34cce1",
   "metadata": {
    "tags": []
   },
   "outputs": [],
   "source": [
    "aggregated_df = aggregated_df.rename(columns={'Country':'CountryLeft', 'Site Country':'Site CountryLeft'})\n",
    "aggregated_df.dtypes"
   ]
  },
  {
   "cell_type": "code",
   "execution_count": null,
   "id": "6113c25d-073c-432d-80b8-7d8b6638815d",
   "metadata": {
    "tags": []
   },
   "outputs": [],
   "source": [
    "# Merge the coordinates with the main dataframe based on the 'Country' column\n",
    "aggregated_df = pd.merge(aggregated_df, country_coordinates_df, left_on=['Site CountryLeft', 'CountryLeft'], \n",
    "                         right_on=['Site Country', 'Country'], how='left')"
   ]
  },
  {
   "cell_type": "code",
   "execution_count": null,
   "id": "93fd0876-b1f0-44d9-9730-45d18ee29a08",
   "metadata": {
    "tags": []
   },
   "outputs": [],
   "source": [
    "aggregated_df.head()"
   ]
  },
  {
   "cell_type": "code",
   "execution_count": null,
   "id": "1382f883-a69f-49da-9ba4-dd470b4ec887",
   "metadata": {
    "tags": []
   },
   "outputs": [],
   "source": [
    "aggregated_df[['Coordinates Country', 'Coordinates Site']].isna().sum()"
   ]
  },
  {
   "cell_type": "code",
   "execution_count": null,
   "id": "f17757a1-7601-439b-a634-9e1814863c61",
   "metadata": {
    "tags": []
   },
   "outputs": [],
   "source": [
    "# nan_rows = aggregated_df[aggregated_df['Country'].isna()]\n",
    "nan_rows = aggregated_df[aggregated_df['Coordinates Country'] == 'nan']\n",
    "nan_rows2 = aggregated_df[aggregated_df['Coordinates Site'] == 'nan']\n",
    "\n",
    "print(nan_rows, nan_rows2)"
   ]
  },
  {
   "cell_type": "code",
   "execution_count": null,
   "id": "08c3ed45-49f9-42db-a582-e2c65e576872",
   "metadata": {
    "tags": []
   },
   "outputs": [],
   "source": [
    "aggregated_df.drop(columns=[\"Site CountryLeft\", \"CountryLeft\"], inplace=True)"
   ]
  },
  {
   "cell_type": "code",
   "execution_count": null,
   "id": "4e13bf8c-e4f8-49f8-a88f-ce9dd6cda1db",
   "metadata": {
    "tags": []
   },
   "outputs": [],
   "source": [
    "# Function to calculate distance using Haversine formula\n",
    "def calculate_distance(row):\n",
    "    return geodesic((row['Coordinates Country']), (row['Coordinates Site'])).kilometers\n",
    "\n",
    "# Apply the function to create a new 'distance' column\n",
    "aggregated_df['distance'] = aggregated_df.apply(calculate_distance, axis=1)\n",
    "print(aggregated_df.shape)\n",
    "aggregated_df.head()"
   ]
  },
  {
   "cell_type": "code",
   "execution_count": null,
   "id": "e3eb574f-faf1-4b82-af66-473f5b7a0c4a",
   "metadata": {
    "tags": []
   },
   "outputs": [],
   "source": [
    "aggregated_df[aggregated_df[\"distance\"] > 0][\"distance\"].min()"
   ]
  },
  {
   "cell_type": "code",
   "execution_count": null,
   "id": "2339f7b6-5f37-4994-85e7-6dae7ef2667e",
   "metadata": {
    "tags": []
   },
   "outputs": [],
   "source": [
    "pop_df = pd.read_csv(ROOTPATH_DATA+\"/extra-dataset/population-data.csv\", usecols=[\"country\", \"landAreaKm\", \"cca2\"])\n",
    "pop_df.head()"
   ]
  },
  {
   "cell_type": "code",
   "execution_count": null,
   "id": "cc3d2ac9-9c5d-4098-9cbf-c4de4813532f",
   "metadata": {
    "tags": []
   },
   "outputs": [],
   "source": [
    "# Merge on 'Site Country' and 'country', perform a left join\n",
    "aggregated_df = pd.merge(aggregated_df, pop_df, left_on='Site Country', right_on='country', how='left')\n",
    "aggregated_df = aggregated_df.drop(['country', 'cca2'], axis=1)\n",
    "aggregated_df.head()"
   ]
  },
  {
   "cell_type": "markdown",
   "id": "169a2339-44c0-4824-bac5-8ccd4d9c81ef",
   "metadata": {},
   "source": [
    "[ourworldindata](https://ourworldindata.org/grapher/carbon-footprint-travel-mode)\n",
    "[ourworldindata](https://ourworldindata.org/grapher/carbon-footprint-travel-mode)\n",
    "\n",
    "|Transportation Mode| Consumption Emission|\n",
    "|------|-------------|\n",
    "|Plane | 175 gCO2e/km|\n",
    "|Motorbike | 92 gCO2e/km|\n",
    "|Petrol car | 90 gCO2e/km|\n",
    "|Diesel car| 90 gCO2e/km|\n",
    "|Train| 28 gCO2e/km|\n",
    "|Electric car| 29 gCO2e/km|\n",
    "|Coach| 22 gCO2e/km|\n",
    "|Long Haul Truck| 57 gCO2e/km|\n",
    "|Roll-on/Roll-off Ferry| 52 gCO2e/km|"
   ]
  },
  {
   "cell_type": "code",
   "execution_count": null,
   "id": "76d5984a-0b66-43fc-befd-317474ceca1c",
   "metadata": {
    "tags": []
   },
   "outputs": [],
   "source": [
    "aggregated_df[\"distance\"] = np.where(\n",
    "    aggregated_df[\"distance\"] == 0,  # condition\n",
    "    np.sqrt(aggregated_df[\"landAreaKm\"]),  # if true\n",
    "    aggregated_df[\"distance\"]  # otherwise\n",
    ")"
   ]
  },
  {
   "cell_type": "code",
   "execution_count": null,
   "id": "f09dd818-8823-41b3-84ef-147b5a918bef",
   "metadata": {
    "tags": []
   },
   "outputs": [],
   "source": [
    "def calculate_co2_emission_ratio(row, vehicle_co2_emission, french_co2_emission):\n",
    "    if row['Sales'] != 0:\n",
    "        return (row['distance'] * vehicle_co2_emission) / (row['Sales'] * french_co2_emission)\n",
    "    else:\n",
    "        return (row['distance'] * vehicle_co2_emission) / french_co2_emission\n",
    "\n",
    "\n",
    "vehicle_co2_emission = 80.4\n",
    "french_co2_emission = 4.46\n",
    "# Assuming you have a DataFrame named aggregated_df\n",
    "aggregated_df['CO2 Emission'] = aggregated_df[\"distance\"] * vehicle_co2_emission\n",
    "aggregated_df['CO2 Emission Ratio French'] = aggregated_df.apply(\n",
    "    lambda row: calculate_co2_emission_ratio(row, vehicle_co2_emission, french_co2_emission),\n",
    "    axis=1\n",
    ")"
   ]
  },
  {
   "cell_type": "code",
   "execution_count": null,
   "id": "2caf60dc-7519-4e0a-8447-0b803f4a3b57",
   "metadata": {
    "tags": []
   },
   "outputs": [],
   "source": [
    "aggregated_df.head(5)"
   ]
  },
  {
   "cell_type": "code",
   "execution_count": null,
   "id": "c08f7010-753a-4501-96b9-c0a231b246bb",
   "metadata": {
    "tags": []
   },
   "outputs": [],
   "source": [
    "# Scatter plot of Sales vs. CO2 Emission\n",
    "plt.scatter(aggregated_df['Sales'], aggregated_df['CO2 Emission'])\n",
    "plt.title('Sales vs. CO2 Emission')\n",
    "plt.xlabel('Sales')\n",
    "plt.ylabel('CO2 Emissions per Person in France')\n",
    "plt.savefig('mix sales_vs_co2_emission_plot.png')\n",
    "plt.show()\n"
   ]
  },
  {
   "cell_type": "code",
   "execution_count": null,
   "id": "9112b8e0-7571-4a66-8206-af44446fbcc1",
   "metadata": {
    "tags": []
   },
   "outputs": [],
   "source": [
    "# Bar chart of Sales by Country\n",
    "sales_by_country = aggregated_df.groupby('Country')['Sales'].sum().sort_values()\n",
    "sales_by_country.plot(kind='bar', color='skyblue')\n",
    "plt.title('Sales by Country')\n",
    "plt.xlabel('Country')\n",
    "plt.ylabel('Total Sales')\n",
    "plt.savefig('mix sales_by_country_plot.png')\n",
    "plt.show()"
   ]
  },
  {
   "cell_type": "code",
   "execution_count": null,
   "id": "e925d28f-96fa-4548-a866-8f1102c106d7",
   "metadata": {
    "tags": []
   },
   "outputs": [],
   "source": [
    "# Bar chart of Sales by Country\n",
    "stocks_by_country = aggregated_df.groupby('Site Country')['Sales'].sum().sort_values()\n",
    "stocks_by_country.plot(kind='bar', color='skyblue')\n",
    "plt.title('Total Stocks per Country')\n",
    "plt.xlabel('Country')\n",
    "plt.ylabel('Total Stocks in Sites')\n",
    "plt.savefig('mix stocks_by_country_plot.png')\n",
    "plt.show()"
   ]
  },
  {
   "cell_type": "code",
   "execution_count": null,
   "id": "a8bedcc6-0612-4301-a1dd-af8e6a72ae05",
   "metadata": {
    "tags": []
   },
   "outputs": [],
   "source": [
    "import matplotlib.pyplot as plt\n",
    "import seaborn as sns\n",
    "from sklearn.preprocessing import StandardScaler\n",
    "import pandas as pd\n",
    "\n",
    "# Assuming your DataFrame is named aggregated_df\n",
    "# Group by product_id, summing up sales and taking the average of CO2 Emission Ratio French\n",
    "aggregated_product_df = aggregated_df.groupby('id_product').agg({'Sales': 'sum', 'CO2 Emission Ratio French': 'mean'}).reset_index()\n",
    "\n",
    "# Filter products with sales above 50\n",
    "filtered_df = aggregated_product_df[aggregated_product_df['Sales'] > 50].copy()  # Create a copy to avoid SettingWithCopyWarning\n",
    "\n",
    "# Standardize the 'Sales' and 'CO2 Emission Ratio French' columns\n",
    "scaler = StandardScaler()\n",
    "filtered_df.loc[:, ['Sales', 'CO2 Emission Over Median French Person Emission']] = scaler.fit_transform(filtered_df[['Sales', 'CO2 Emission Ratio French']])\n",
    "\n",
    "# Plotting\n",
    "plt.figure(figsize=(10, 8))\n",
    "sns.scatterplot(x='Sales', y='CO2 Emission Ratio French', size='Sales', data=filtered_df, sizes=(20, 200), legend=True)\n",
    "\n",
    "# Adding labels and title\n",
    "plt.title('Standardized CO2 Emission vs. Sales (Aggregated by Product, Sales > 50)')\n",
    "plt.xlabel('Standardized Sales')\n",
    "plt.ylabel('Standardized CO2 Emission Ratio French')\n",
    "\n",
    "# Display the plot\n",
    "plt.show()\n"
   ]
  },
  {
   "cell_type": "code",
   "execution_count": null,
   "id": "03c01dc7-1302-46c4-8619-98e1d79a58c1",
   "metadata": {
    "tags": []
   },
   "outputs": [],
   "source": [
    "# Plotting\n",
    "plt.figure(figsize=(12, 8))\n",
    "sns.barplot(x='Sales', y='Country', data=sales_by_country_df, palette='viridis', ci=None)\n",
    "\n",
    "# Adding color scale legend\n",
    "sm = plt.cm.ScalarMappable(cmap='viridis', norm=plt.Normalize(vmin=min_co2_ratio, vmax=max_co2_ratio))\n",
    "sm.set_array([])  # You need to set a dummy array for the scalar mappable\n",
    "cbar = plt.colorbar(sm, orientation='vertical', pad=0.02)\n",
    "cbar.set_label('Equivalent Person CO2 Emissions per Capita in France')\n",
    "plt.savefig('mix sales_by_country_co2info_plot.png')"
   ]
  },
  {
   "cell_type": "code",
   "execution_count": null,
   "id": "e93166fc-3bab-4666-a62f-fa818d98bc6a",
   "metadata": {
    "tags": []
   },
   "outputs": [],
   "source": [
    "import matplotlib.pyplot as plt\n",
    "import seaborn as sns\n",
    "\n",
    "# Take the mean of CO2 emission ratio for each product\n",
    "mean_co2_ratio_by_product = aggregated_df.groupby('id_product')['CO2 Emission Ratio French'].mean()\n",
    "\n",
    "# Plotting histogram\n",
    "plt.figure(figsize=(12, 8))\n",
    "sns.histplot(mean_co2_ratio_by_product, bins=30, kde=False, color='skyblue')\n",
    "plt.title('Mean CO2 Emission Ratio Distribution by Product')\n",
    "plt.xlabel('Equivalent Person CO2 Emissions per Capita in France')\n",
    "plt.ylabel('Frequency')\n",
    "plt.savefig('mix co2_emission_ratio_product_plot.png')\n",
    "plt.show()\n"
   ]
  },
  {
   "cell_type": "code",
   "execution_count": null,
   "id": "2b6faa62-bfc6-4b44-8465-6ec296ceb63a",
   "metadata": {
    "tags": []
   },
   "outputs": [],
   "source": [
    "import matplotlib.pyplot as plt\n",
    "import seaborn as sns\n",
    "\n",
    "# Aggregate data\n",
    "aggregated_product_df = aggregated_df.groupby('id_product').agg({'Sales': 'sum', 'CO2 Emission Ratio French': 'mean'}).reset_index()\n",
    "\n",
    "# Filter products with sales above 50\n",
    "filtered_df = aggregated_product_df[aggregated_product_df['Sales'] > 50].copy()\n",
    "\n",
    "# Take the mean of CO2 emission ratio for each product (after filtering)\n",
    "mean_co2_ratio_by_product_filtered = filtered_df.groupby('id_product')['CO2 Emission Ratio French'].mean()\n",
    "\n",
    "# Plotting histogram for filtered products\n",
    "plt.figure(figsize=(12, 8))\n",
    "sns.histplot(mean_co2_ratio_by_product_filtered, bins=30, kde=False, color='skyblue')\n",
    "plt.title('Mean CO2 Emission Ratio Distribution by Product (Sales > 50)')\n",
    "plt.xlabel('Mean CO2 Emission Ratio French')\n",
    "plt.ylabel('Frequency')\n",
    "plt.show()\n"
   ]
  },
  {
   "cell_type": "code",
   "execution_count": null,
   "id": "3dd32f91-6b11-41ed-b6b7-a1d6150ee907",
   "metadata": {},
   "outputs": [],
   "source": []
  },
  {
   "cell_type": "code",
   "execution_count": null,
   "id": "a663ffa4-8764-4172-b17b-f88f5887f100",
   "metadata": {},
   "outputs": [],
   "source": []
  }
 ],
 "metadata": {
  "kernelspec": {
   "display_name": "Python 3 (ipykernel)",
   "language": "python",
   "name": "python3"
  },
  "language_info": {
   "codemirror_mode": {
    "name": "ipython",
    "version": 3
   },
   "file_extension": ".py",
   "mimetype": "text/x-python",
   "name": "python",
   "nbconvert_exporter": "python",
   "pygments_lexer": "ipython3",
   "version": "3.10.12"
  }
 },
 "nbformat": 4,
 "nbformat_minor": 5
}
